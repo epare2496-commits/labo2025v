{
  "nbformat": 4,
  "nbformat_minor": 0,
  "metadata": {
    "colab": {
      "provenance": [],
      "include_colab_link": true
    },
    "kernelspec": {
      "name": "ir",
      "display_name": "R"
    },
    "language_info": {
      "name": "R"
    }
  },
  "cells": [
    {
      "cell_type": "markdown",
      "metadata": {
        "id": "view-in-github",
        "colab_type": "text"
      },
      "source": [
        "<a href=\"https://colab.research.google.com/github/epare2496-commits/labo2025v/blob/main/src/rpart/EP%20401_TareaHogar_02%20prueba.ipynb\" target=\"_parent\"><img src=\"https://colab.research.google.com/assets/colab-badge.svg\" alt=\"Open In Colab\"/></a>"
      ]
    },
    {
      "cell_type": "markdown",
      "source": [
        "# Tarea para el Hogar 02"
      ],
      "metadata": {
        "id": "F3r8aa3pBigj"
      }
    },
    {
      "cell_type": "markdown",
      "source": [
        "Esta Tarea para el Hogar 02 se entrega el final de la segunda clase\n",
        "<br> se espera de usted que intente avanzar con los desafios propuestos y que los traiga terminados para la Clase 03, ya que se analizarán los resultados"
      ],
      "metadata": {
        "id": "nBm4ktHUBmZt"
      }
    },
    {
      "cell_type": "markdown",
      "source": [
        "##  1. Ensembles de Modelos"
      ],
      "metadata": {
        "id": "TK-M04ElCESC"
      }
    },
    {
      "cell_type": "markdown",
      "source": [
        "Vea el siguiente video [BBC - The Code - The Wisdom of the Crowd](https://www.youtube.com/watch?v=iOucwX7Z1HU)    ( 5 min)\n"
      ],
      "metadata": {
        "id": "biPYxgobCOSS"
      }
    },
    {
      "cell_type": "markdown",
      "source": [
        "Lea los siguientes artículos\n",
        "\n",
        "\n",
        "*   [The Wisdom of Crowds (Vox Populi) by Francis Galton](https://www.all-about-psychology.com/the-wisdom-of-crowds.html)  (10 min)\n",
        "*   [A Gentle Introduction to Ensemble Learning](https://machinelearningmastery.com/what-is-ensemble-learning/)  (10 min)\n",
        "\n"
      ],
      "metadata": {
        "id": "FBszBRyNCcjp"
      }
    },
    {
      "cell_type": "markdown",
      "source": [
        "\n",
        "\n",
        "---\n",
        "\n"
      ],
      "metadata": {
        "id": "x7SebtV2lpHQ"
      }
    },
    {
      "cell_type": "markdown",
      "source": [
        "##  2.  Zero2Hero   primera parte\n",
        "Se han lanzado los primeros fascículos coleccionables llamados \"from Zero to Hero\" que muy detalladamente, paso a paso enseñan todo lo necesario de R para entender los scripts oficiales de la asignatura.\n",
        "Están en el repositorio oficial de la asignatura, carpeta  **src/zero2hero**"
      ],
      "metadata": {
        "id": "NQcY8u2MDSLT"
      }
    },
    {
      "cell_type": "markdown",
      "source": [
        "\n",
        "\n",
        "---\n",
        "\n"
      ],
      "metadata": {
        "id": "GcO0OSiIEAGy"
      }
    },
    {
      "cell_type": "markdown",
      "source": [
        "## 3.  Grid Search"
      ],
      "metadata": {
        "id": "6MStcyn0EBdT"
      }
    },
    {
      "cell_type": "markdown",
      "source": [
        "Busque en internet el precido significado de los hiperparámetros de la librería **rpart**  que está implementando el algoritmo **CART**  Classification and Regression Trees  propuesto en el año 1984 por Leo Brieman:\n",
        "\n",
        "*   cp\n",
        "*   maxdepth\n",
        "*   minsplit\n",
        "*   minbucket\n",
        "\n",
        "Entienda que valores es razonable tome cada hiperparámetro,  en particular profundice en el hiperparámetro  **cp**  y la posibilidad que tome valores negativos.  Es válido consultar a su amigo de *capacidades especiales*  ChatGPT\n"
      ],
      "metadata": {
        "id": "gM8RKXDgEIY0"
      }
    },
    {
      "cell_type": "markdown",
      "source": [
        "En las siguientes celdas a un notebook incompleto, un esqueleto de codigo brindado a modo de facilitarle la tarea de codeo y permitir que su valiosa cognición se concentre temas conceptuales de Ciencia de Datos\n",
        "\n",
        "Modifiquelo agregando loops para que recorra TODOS los hiperparámetros de rpart  < cp, maxdepth, minsplit, minbucket >, y luego póngalo a correr. Recuerde cambiar por SU semilla\n",
        "Tenga muy presente la granularidad que eligirá para cada hiperparámetro."
      ],
      "metadata": {
        "id": "_k7eT3HIFy9y"
      }
    },
    {
      "cell_type": "markdown",
      "source": [
        "### Seteo del ambiente en Google Colab"
      ],
      "metadata": {
        "id": "kmLygy1TYPfg"
      }
    },
    {
      "cell_type": "markdown",
      "source": [
        "Esta parte se debe correr con el runtime en Python3\n",
        "<br>Ir al menu, Runtime -> Change Runtime Tipe -> Runtime type ->  **Python 3**"
      ],
      "metadata": {
        "id": "OikOm5K2YU3X"
      }
    },
    {
      "cell_type": "markdown",
      "source": [
        "Conectar la virtual machine donde esta corriendo Google Colab con el  Google Drive, para poder tener persistencia de archivos"
      ],
      "metadata": {
        "id": "4fmV5LyZdFyI"
      }
    },
    {
      "cell_type": "code",
      "source": [
        "# primero establecer el Runtime de Python 3\n",
        "from google.colab import drive\n",
        "drive.mount('/content/.drive')"
      ],
      "metadata": {
        "id": "ilEZ-bE2VybW",
        "colab": {
          "base_uri": "https://localhost:8080/"
        },
        "outputId": "914a16d0-867f-42ad-ad32-cc3feb300c90"
      },
      "execution_count": 1,
      "outputs": [
        {
          "output_type": "stream",
          "name": "stdout",
          "text": [
            "Mounted at /content/.drive\n"
          ]
        }
      ]
    },
    {
      "cell_type": "markdown",
      "source": [
        "Para correr la siguiente celda es fundamental en Arranque en Frio haber copiado el archivo kaggle.json al Google Drive, en la carpeta indicada en el instructivo\n",
        "\n",
        "<br>los siguientes comando estan en shell script de Linux\n",
        "*   Crear las carpetas en el Google Drive\n",
        "*   \"instalar\" el archivo kaggle.json desde el Google Drive a la virtual machine para que pueda ser utilizado por la libreria  kaggle de Python\n",
        "*   Bajar el  **dataset_pequeno**  al  Google Drive  y tambien al disco local de la virtual machine que esta corriendo Google Colab\n",
        "\n"
      ],
      "metadata": {
        "id": "ilaKtqWldeWg"
      }
    },
    {
      "cell_type": "code",
      "source": [
        "%%shell\n",
        "\n",
        "mkdir -p \"/content/.drive/My Drive/labo1\"\n",
        "mkdir -p \"/content/buckets\"\n",
        "ln -s \"/content/.drive/My Drive/labo1\" /content/buckets/b1\n",
        "\n",
        "mkdir -p ~/.kaggle\n",
        "cp /content/buckets/b1/kaggle/kaggle.json  ~/.kaggle\n",
        "chmod 600 ~/.kaggle/kaggle.json\n",
        "\n",
        "\n",
        "mkdir -p /content/buckets/b1/exp\n",
        "mkdir -p /content/buckets/b1/datasets\n",
        "mkdir -p /content/datasets\n",
        "\n",
        "\n",
        "\n",
        "archivo_origen=\"https://storage.googleapis.com/open-courses/austral2025-af91/dataset_pequeno.csv\"\n",
        "archivo_destino=\"/content/datasets/dataset_pequeno.csv\"\n",
        "archivo_destino_bucket=\"/content/buckets/b1/datasets/dataset_pequeno.csv\"\n",
        "\n",
        "if ! test -f $archivo_destino_bucket; then\n",
        "  wget  $archivo_origen  -O $archivo_destino_bucket\n",
        "fi\n",
        "\n",
        "\n",
        "if ! test -f $archivo_destino; then\n",
        "  cp  $archivo_destino_bucket  $archivo_destino\n",
        "fi\n",
        "\n"
      ],
      "metadata": {
        "id": "W8dQFI5QYCFa",
        "colab": {
          "base_uri": "https://localhost:8080/"
        },
        "outputId": "0a0fda13-f685-4c1d-ce7e-1964a6084339"
      },
      "execution_count": 2,
      "outputs": [
        {
          "output_type": "execute_result",
          "data": {
            "text/plain": []
          },
          "metadata": {},
          "execution_count": 2
        }
      ]
    },
    {
      "cell_type": "markdown",
      "source": [
        "limpio el ambiente de R"
      ],
      "metadata": {
        "id": "SE94XRhWsxkX"
      }
    },
    {
      "cell_type": "code",
      "source": [
        "# limpio la memoria\n",
        "rm(list=ls(all.names=TRUE)) # remove all objects\n",
        "gc(full=TRUE, verbose=FALSE) # garbage collection"
      ],
      "metadata": {
        "id": "oZG_4br6szlT",
        "colab": {
          "base_uri": "https://localhost:8080/",
          "height": 129
        },
        "outputId": "460b19d2-16a2-4743-dd61-5d49f4cecc2a"
      },
      "execution_count": 20,
      "outputs": [
        {
          "output_type": "display_data",
          "data": {
            "text/html": [
              "<table class=\"dataframe\">\n",
              "<caption>A matrix: 2 × 6 of type dbl</caption>\n",
              "<thead>\n",
              "\t<tr><th></th><th scope=col>used</th><th scope=col>(Mb)</th><th scope=col>gc trigger</th><th scope=col>(Mb)</th><th scope=col>max used</th><th scope=col>(Mb)</th></tr>\n",
              "</thead>\n",
              "<tbody>\n",
              "\t<tr><th scope=row>Ncells</th><td> 810804</td><td>43.4</td><td> 1454457</td><td> 77.7</td><td> 1454457</td><td> 77.7</td></tr>\n",
              "\t<tr><th scope=row>Vcells</th><td>1521815</td><td>11.7</td><td>56779932</td><td>433.2</td><td>70966820</td><td>541.5</td></tr>\n",
              "</tbody>\n",
              "</table>\n"
            ],
            "text/markdown": "\nA matrix: 2 × 6 of type dbl\n\n| <!--/--> | used | (Mb) | gc trigger | (Mb) | max used | (Mb) |\n|---|---|---|---|---|---|---|\n| Ncells |  810804 | 43.4 |  1454457 |  77.7 |  1454457 |  77.7 |\n| Vcells | 1521815 | 11.7 | 56779932 | 433.2 | 70966820 | 541.5 |\n\n",
            "text/latex": "A matrix: 2 × 6 of type dbl\n\\begin{tabular}{r|llllll}\n  & used & (Mb) & gc trigger & (Mb) & max used & (Mb)\\\\\n\\hline\n\tNcells &  810804 & 43.4 &  1454457 &  77.7 &  1454457 &  77.7\\\\\n\tVcells & 1521815 & 11.7 & 56779932 & 433.2 & 70966820 & 541.5\\\\\n\\end{tabular}\n",
            "text/plain": [
              "       used    (Mb) gc trigger (Mb)  max used (Mb) \n",
              "Ncells  810804 43.4  1454457    77.7  1454457  77.7\n",
              "Vcells 1521815 11.7 56779932   433.2 70966820 541.5"
            ]
          },
          "metadata": {}
        }
      ]
    },
    {
      "cell_type": "code",
      "source": [
        "# cargo las librerias que necesito\n",
        "require(\"data.table\")\n",
        "require(\"rpart\")\n",
        "require(\"parallel\")\n",
        "if (!require(\"primes\")) install.packages(\"primes\")\n",
        "require(\"primes\")"
      ],
      "metadata": {
        "id": "JO-12d7YHkWy"
      },
      "execution_count": 21,
      "outputs": []
    },
    {
      "cell_type": "markdown",
      "source": [
        "Aqui debe poner SU semiila primigenia"
      ],
      "metadata": {
        "id": "0MclPEJ6Q8Bp"
      }
    },
    {
      "cell_type": "code",
      "source": [
        "PARAM <- list()\n",
        "# reemplazar por su primer semilla\n",
        "PARAM$semilla_primigenia <- 100009\n",
        "PARAM$qsemillas <- 16\n",
        "\n",
        "PARAM$training_pct <- 70L  # entre  1L y 99L\n",
        "\n",
        "# elegir SU dataset comentando/ descomentando\n",
        "PARAM$dataset_nom <- \"~/datasets/dataset_pequeno.csv\""
      ],
      "metadata": {
        "id": "Vt5fC6bWHu5r"
      },
      "execution_count": 22,
      "outputs": []
    },
    {
      "cell_type": "code",
      "source": [
        "# particionar agrega una columna llamada fold a un dataset\n",
        "#  que consiste en una particion estratificada segun agrupa\n",
        "# particionar( data=dataset, division=c(70,30), agrupa=clase_ternaria, seed=semilla)\n",
        "#   crea una particion 70, 30\n",
        "\n",
        "particionar <- function(data, division, agrupa = \"\", campo = \"fold\", start = 1, seed = NA) {\n",
        "  if (!is.na(seed)) set.seed(seed)\n",
        "\n",
        "  bloque <- unlist(mapply(function(x, y) {\n",
        "    rep(y, x)\n",
        "  }, division, seq(from = start, length.out = length(division))))\n",
        "\n",
        "  data[, (campo) := sample(rep(bloque, ceiling(.N / length(bloque))))[1:.N],\n",
        "    by = agrupa\n",
        "  ]\n",
        "}\n"
      ],
      "metadata": {
        "id": "Z1dchsrWH4MD"
      },
      "execution_count": 4,
      "outputs": []
    },
    {
      "cell_type": "code",
      "source": [
        "ArbolEstimarGanancia <- function(semilla, training_pct, param_basicos, PARAM) {\n",
        "  # (Se asume que las funciones 'particionar' y 'dataset' están disponibles)\n",
        "\n",
        "  # 1. Particionar el dataset\n",
        "  particionar(dataset, division = c(training_pct, 100L - training_pct), agrupa = \"clase_ternaria\", seed = semilla)\n",
        "\n",
        "  # 2. Generar el modelo (rpart)\n",
        "  modelo <- rpart(\"clase_ternaria ~ .\", data = dataset[fold == 1], xval = 0, control = param_basicos)\n",
        "\n",
        "  # 3. Aplicar el modelo a testing\n",
        "  df_testing <- dataset[fold == 2]\n",
        "  prediccion <- predict(modelo, df_testing, type = \"prob\")\n",
        "\n",
        "  # --- Cálculo de la Ganancia y Métricas (Basado en Umbral 0.025) ---\n",
        "\n",
        "  # Clientes que el modelo DECIDIÓ CONTACTAR (Prob > 0.025)\n",
        "  decision_contacto <- prediccion[, \"BAJA+2\"] > 0.025\n",
        "\n",
        "  # Realidad de los clientes en testing\n",
        "  realidad_baja2 <- df_testing$clase_ternaria == \"BAJA+2\"\n",
        "\n",
        "  # Componentes de la Matriz de Confusión:\n",
        "  VP <- sum(decision_contacto & realidad_baja2)       # True Positives (Ganancia 117000)\n",
        "  FP <- sum(decision_contacto & !realidad_baja2)      # False Positives (Pérdida -3000)\n",
        "  FN <- sum(!decision_contacto & realidad_baja2)      # False Negatives (Oportunidad Perdida)\n",
        "\n",
        "  # Cálculo de Métricas\n",
        "  Precision <- ifelse((VP + FP) > 0, VP / (VP + FP), 0) # Si se contacta a alguien (VP + FP) > 0\n",
        "  Recall <- ifelse((VP + FN) > 0, VP / (VP + FN), 0)     # Si hay casos BAJA+2 reales (VP + FN) > 0\n",
        "\n",
        "  # 4. Cálculo de la ganancia en testing (Se mantiene el código original)\n",
        "  ganancia_test <- VP * 117000 + FP * (-3000)\n",
        "\n",
        "  # 5. Normalizar la ganancia\n",
        "  prop_testing <- (100 - training_pct) / 100\n",
        "  ganancia_test_normalizada <- ganancia_test / prop_testing\n",
        "\n",
        "  # --- Métricas de Diagnóstico ADICIONALES (Reutilizadas) ---\n",
        "  nodos_terminales <- sum(modelo$frame$var == \"<leaf>\")\n",
        "  profundidad_maxima <- max(floor(log2(as.numeric(row.names(modelo$frame[modelo$frame$var == \"<leaf>\",])))))\n",
        "  error_relativo_min <- min(modelo$cptable[, \"rel error\"])\n",
        "  imp_vars <- modelo$variable.importance\n",
        "  variable_mas_imp <- if (length(imp_vars) > 0) names(imp_vars)[1] else \"N/A\"\n",
        "\n",
        "  # 6. Devolver el resultado\n",
        "  return(\n",
        "    c(list(\n",
        "      \"semilla\" = semilla\n",
        "    ),\n",
        "      param_basicos,\n",
        "      list(\n",
        "        \"ganancia_test_normalizada\" = ganancia_test_normalizada,\n",
        "        \"nodos_terminales\" = nodos_terminales,\n",
        "        \"profundidad_maxima\" = profundidad_maxima,\n",
        "        \"precision\" = Precision,\n",
        "        \"recall\" = Recall,\n",
        "        \"error_relativo_min\" = error_relativo_min,\n",
        "        \"variable_mas_imp\" = variable_mas_imp\n",
        "      )\n",
        "    )\n",
        "  )\n",
        "}"
      ],
      "metadata": {
        "id": "xsHwS1CzIA70"
      },
      "execution_count": 24,
      "outputs": []
    },
    {
      "cell_type": "code",
      "source": [
        "ArbolesMontecarlo <- function(semillas, param_basicos) {\n",
        "\n",
        "  # la funcion mcmapply  llama a la funcion ArbolEstimarGanancia\n",
        "  #  tantas veces como valores tenga el vector  PARAM$semillas\n",
        "  salida <- mcmapply(ArbolEstimarGanancia,\n",
        "    semillas, # paso el vector de semillas\n",
        "    MoreArgs = list(PARAM$training_pct, param_basicos), # aqui paso el segundo parametro\n",
        "    SIMPLIFY = FALSE,\n",
        "    mc.cores = detectCores()\n",
        "  )\n",
        "\n",
        "  return(salida)\n",
        "}\n"
      ],
      "metadata": {
        "id": "BvBVOuhqIEjD"
      },
      "execution_count": 25,
      "outputs": []
    },
    {
      "cell_type": "code",
      "source": [
        "# carpeta de trabajo\n",
        "# por favor cambiar numero de experimento si se cambia el loop principal\n",
        "setwd(\"/content/buckets/b1/exp\")\n",
        "experimento <- \"HT4301\"\n",
        "dir.create(experimento, showWarnings=FALSE)\n",
        "setwd( paste0(\"/content/buckets/b1/exp/\", experimento ))"
      ],
      "metadata": {
        "id": "L-DOGHOjIG7G"
      },
      "execution_count": 26,
      "outputs": []
    },
    {
      "cell_type": "code",
      "source": [
        "# lectura del dataset\n",
        "dataset <- fread(\"/content/datasets/dataset_pequeno.csv\")\n",
        "\n",
        "# trabajo solo con los datos con clase, es decir 202107\n",
        "dataset <- dataset[clase_ternaria != \"\"]"
      ],
      "metadata": {
        "id": "NM-mrLWcIPo6"
      },
      "execution_count": 27,
      "outputs": []
    },
    {
      "cell_type": "code",
      "source": [
        "\n",
        "# genero numeros primos\n",
        "primos <- generate_primes(min = 100000, max = 1000000)\n",
        "set.seed(PARAM$semilla_primigenia) # inicializo\n",
        "# me quedo con PARAM$qsemillas   semillas\n",
        "PARAM$semillas <- sample(primos, PARAM$qsemillas )\n"
      ],
      "metadata": {
        "id": "tSlY0EcgIWdi"
      },
      "execution_count": 28,
      "outputs": []
    },
    {
      "cell_type": "code",
      "source": [
        "# genero la data.table donde van los resultados detallados del Grid Search\n",
        "# un registro para cada combinacion de < semilla, parametros >\n",
        "\n",
        "if(file.exists(\"gridsearch_detalle.txt\")){\n",
        "  tb_grid_search_detalle <- fread(\"gridsearch_detalle.txt\")\n",
        "}else{\n",
        "  tb_grid_search_detalle <- data.table(\n",
        "    semilla = integer(),\n",
        "    cp = numeric(),\n",
        "    maxdepth = integer(),\n",
        "   minsplit = integer(),\n",
        "    minbucket = integer(),\n",
        "    ganancia_test = numeric()\n",
        "  )\n",
        "}\n",
        "\n",
        "nrow( tb_grid_search_detalle )"
      ],
      "metadata": {
        "id": "xxCAwIKyIaTl",
        "colab": {
          "base_uri": "https://localhost:8080/",
          "height": 34
        },
        "outputId": "36d2d547-0020-44ca-f91f-27dde6487bd5"
      },
      "execution_count": 29,
      "outputs": [
        {
          "output_type": "display_data",
          "data": {
            "text/html": [
              "0"
            ],
            "text/markdown": "0",
            "text/latex": "0",
            "text/plain": [
              "[1] 0"
            ]
          },
          "metadata": {}
        }
      ]
    },
    {
      "cell_type": "markdown",
      "source": [
        "Esta es la parte del código que usted debe expandir a TODOS los hiperparámetros de rpart,\n",
        "<br>ya que actualmente apenas recorre  maxdepth y  minsplit  dejando fijos  cp=-0.5  y minbucket=5"
      ],
      "metadata": {
        "id": "eAuGBNL8IkOD"
      }
    },
    {
      "cell_type": "code",
      "source": [
        "# @title\n",
        "\n",
        "# itero por los loops anidados para cada hiperparametro\n",
        "\n",
        "iter <- 0\n",
        "\n",
        "# LOOP 1: Complexity Parameter (cp)\n",
        "for (vcp in c(-0.5)) {\n",
        "\n",
        "  # LOOP 2: Minimum Bucket Size (minbucket)\n",
        "  for (vmin_bucket in c( 5)) {\n",
        "\n",
        "    # LOOP 3: Maximum Depth (maxdepth)\n",
        "    for (vmax_depth in c( 10)) {\n",
        "\n",
        "      # LOOP 4: Minimum Split Size (minsplit)\n",
        "      for (vmin_split in c( 1000)) {\n",
        "\n",
        "        # Notar que la iteración total es ahora 3 * 3 * 6 * 5 = 270\n",
        "        iter <- iter + 1\n",
        "        cat( iter, \" \" )\n",
        "        flush.console()\n",
        "        if( iter*PARAM$qsemillas < nrow(tb_grid_search_detalle)+1 ) next\n",
        "\n",
        "        # Definición de Hiperparámetros\n",
        "        param_basicos <- list(\n",
        "          \"cp\" = vcp,             # complejidad\n",
        "          \"maxdepth\" = vmax_depth, # profundidad maxima del arbol\n",
        "          \"minsplit\" = vmin_split, # tamaño minimo de nodo para split\n",
        "          \"minbucket\" = vmin_bucket # minima cantidad de registros en una hoja\n",
        "        )\n",
        "\n",
        "        # Un solo llamado, con la semilla 17\n",
        "        ganancias <- ArbolesMontecarlo(PARAM$semillas, param_basicos)\n",
        "\n",
        "        # agrego a la tabla\n",
        "        tb_grid_search_detalle <- rbindlist(\n",
        "          list( tb_grid_search_detalle,\n",
        "                rbindlist(ganancias) ), fill = TRUE\n",
        "        )\n",
        "\n",
        "      } # Fin Loop minsplit\n",
        "\n",
        "    } # Fin Loop maxdepth\n",
        "\n",
        "    # IMPORTANTE: El guardado ocurre aquí, después de completar todas las combinaciones de minsplit y maxdepth\n",
        "    # para un valor específico de CP y MINBUCKET.\n",
        "\n",
        "    # grabo cada vez TODA la tabla en el loop mas externo\n",
        "    fwrite( tb_grid_search_detalle,\n",
        "            file = \"gridsearch_detalle.txt\",\n",
        "            sep = \"\\t\" )\n",
        "\n",
        "  } # Fin Loop minbucket\n",
        "\n",
        "} # Fin Loop cp"
      ],
      "metadata": {
        "id": "ipLHm3STIfmb",
        "colab": {
          "base_uri": "https://localhost:8080/",
          "height": 313
        },
        "outputId": "4f49c2d8-3eb5-477c-e753-bd78642b762f"
      },
      "execution_count": 31,
      "outputs": [
        {
          "output_type": "stream",
          "name": "stdout",
          "text": [
            "1  "
          ]
        },
        {
          "output_type": "stream",
          "name": "stderr",
          "text": [
            "Warning message in mclapply(seq_len(n), do_one, mc.preschedule = mc.preschedule, :\n",
            "“all scheduled cores encountered errors in user code”\n"
          ]
        },
        {
          "output_type": "error",
          "ename": "ERROR",
          "evalue": "Error in rbindlist(ganancias): Item 1 of input is not a data.frame, data.table or list\n",
          "traceback": [
            "Error in rbindlist(ganancias): Item 1 of input is not a data.frame, data.table or list\nTraceback:\n",
            "1. rbindlist(ganancias)",
            "2. .handleSimpleError(function (cnd) \n . {\n .     watcher$capture_plot_and_output()\n .     cnd <- sanitize_call(cnd)\n .     watcher$push(cnd)\n .     switch(on_error, continue = invokeRestart(\"eval_continue\"), \n .         stop = invokeRestart(\"eval_stop\"), error = NULL)\n . }, \"Item 1 of input is not a data.frame, data.table or list\", \n .     base::quote(rbindlist(ganancias)))"
          ]
        }
      ]
    },
    {
      "cell_type": "code",
      "source": [],
      "metadata": {
        "id": "m8WHFKd4h5mf"
      },
      "execution_count": null,
      "outputs": []
    },
    {
      "cell_type": "code",
      "source": [
        "fwrite( tb_grid_search_detalle,\n",
        "   file = \"gridsearch_detalle.txt\",\n",
        "   sep = \"\\t\"\n",
        ")"
      ],
      "metadata": {
        "id": "WZaSqYBxiDFu"
      },
      "execution_count": 13,
      "outputs": []
    },
    {
      "cell_type": "code",
      "source": [
        "# cantidad de registros de la tabla\n",
        "nrow(tb_grid_search_detalle)"
      ],
      "metadata": {
        "id": "STp0duM-RYVJ",
        "colab": {
          "base_uri": "https://localhost:8080/",
          "height": 34
        },
        "outputId": "b4139e29-ee11-44d5-a69c-6862fcebf13c"
      },
      "execution_count": 14,
      "outputs": [
        {
          "output_type": "display_data",
          "data": {
            "text/html": [
              "16"
            ],
            "text/markdown": "16",
            "text/latex": "16",
            "text/plain": [
              "[1] 16"
            ]
          },
          "metadata": {}
        }
      ]
    },
    {
      "cell_type": "code",
      "source": [
        "# muestro la tabla\n",
        "tb_grid_search_detalle"
      ],
      "metadata": {
        "id": "k7fhk_H0iNez",
        "colab": {
          "base_uri": "https://localhost:8080/",
          "height": 620
        },
        "outputId": "ff5376c1-e2a3-42a7-c6f7-b497fab5eb26"
      },
      "execution_count": 15,
      "outputs": [
        {
          "output_type": "display_data",
          "data": {
            "text/html": [
              "<table class=\"dataframe\">\n",
              "<caption>A data.table: 16 × 13</caption>\n",
              "<thead>\n",
              "\t<tr><th scope=col>semilla</th><th scope=col>cp</th><th scope=col>maxdepth</th><th scope=col>minsplit</th><th scope=col>minbucket</th><th scope=col>ganancia_test</th><th scope=col>ganancia_test_normalizada</th><th scope=col>nodos_terminales</th><th scope=col>profundidad_maxima</th><th scope=col>precision</th><th scope=col>recall</th><th scope=col>error_relativo_min</th><th scope=col>variable_mas_imp</th></tr>\n",
              "\t<tr><th scope=col>&lt;int&gt;</th><th scope=col>&lt;dbl&gt;</th><th scope=col>&lt;dbl&gt;</th><th scope=col>&lt;dbl&gt;</th><th scope=col>&lt;dbl&gt;</th><th scope=col>&lt;dbl&gt;</th><th scope=col>&lt;dbl&gt;</th><th scope=col>&lt;int&gt;</th><th scope=col>&lt;dbl&gt;</th><th scope=col>&lt;dbl&gt;</th><th scope=col>&lt;dbl&gt;</th><th scope=col>&lt;dbl&gt;</th><th scope=col>&lt;chr&gt;</th></tr>\n",
              "</thead>\n",
              "<tbody>\n",
              "\t<tr><td>842473</td><td>-0.1</td><td>7</td><td>1000</td><td>80</td><td>NA</td><td>52330000</td><td>45</td><td>7</td><td>0.06339888</td><td>0.5775401</td><td>1</td><td>ctrx_quarter</td></tr>\n",
              "\t<tr><td>674693</td><td>-0.1</td><td>7</td><td>1000</td><td>80</td><td>NA</td><td>51920000</td><td>46</td><td>7</td><td>0.05738523</td><td>0.6052632</td><td>1</td><td>ctrx_quarter</td></tr>\n",
              "\t<tr><td>157489</td><td>-0.1</td><td>7</td><td>1000</td><td>80</td><td>NA</td><td>46770000</td><td>45</td><td>7</td><td>0.05935939</td><td>0.5444744</td><td>1</td><td>ctrx_quarter</td></tr>\n",
              "\t<tr><td>789533</td><td>-0.1</td><td>7</td><td>1000</td><td>80</td><td>NA</td><td>44060000</td><td>38</td><td>7</td><td>0.04984213</td><td>0.5893333</td><td>1</td><td>ctrx_quarter</td></tr>\n",
              "\t<tr><td>529847</td><td>-0.1</td><td>7</td><td>1000</td><td>80</td><td>NA</td><td>52280000</td><td>39</td><td>7</td><td>0.05757727</td><td>0.6176471</td><td>1</td><td>ctrx_quarter</td></tr>\n",
              "\t<tr><td>688013</td><td>-0.1</td><td>7</td><td>1000</td><td>80</td><td>NA</td><td>46640000</td><td>41</td><td>7</td><td>0.05913349</td><td>0.5315789</td><td>1</td><td>ctrx_quarter</td></tr>\n",
              "\t<tr><td>672593</td><td>-0.1</td><td>7</td><td>1000</td><td>80</td><td>NA</td><td>49400000</td><td>39</td><td>7</td><td>0.06818182</td><td>0.5131579</td><td>1</td><td>ctrx_quarter</td></tr>\n",
              "\t<tr><td>281651</td><td>-0.1</td><td>7</td><td>1000</td><td>80</td><td>NA</td><td>54170000</td><td>39</td><td>7</td><td>0.06042375</td><td>0.6143617</td><td>1</td><td>ctrx_quarter</td></tr>\n",
              "\t<tr><td>575027</td><td>-0.1</td><td>7</td><td>1000</td><td>80</td><td>NA</td><td>40020000</td><td>42</td><td>7</td><td>0.05515371</td><td>0.4919355</td><td>1</td><td>ctrx_quarter</td></tr>\n",
              "\t<tr><td>332993</td><td>-0.1</td><td>7</td><td>1000</td><td>80</td><td>NA</td><td>54990000</td><td>42</td><td>7</td><td>0.06876791</td><td>0.5775401</td><td>1</td><td>ctrx_quarter</td></tr>\n",
              "\t<tr><td>122011</td><td>-0.1</td><td>7</td><td>1000</td><td>80</td><td>NA</td><td>50060000</td><td>34</td><td>7</td><td>0.06322541</td><td>0.5534759</td><td>1</td><td>ctrx_quarter</td></tr>\n",
              "\t<tr><td>206917</td><td>-0.1</td><td>7</td><td>1000</td><td>80</td><td>NA</td><td>47370000</td><td>47</td><td>7</td><td>0.05177481</td><td>0.6122995</td><td>1</td><td>ctrx_quarter</td></tr>\n",
              "\t<tr><td>360049</td><td>-0.1</td><td>7</td><td>1000</td><td>80</td><td>NA</td><td>52640000</td><td>41</td><td>7</td><td>0.06643577</td><td>0.5611702</td><td>1</td><td>ctrx_quarter</td></tr>\n",
              "\t<tr><td>895507</td><td>-0.1</td><td>7</td><td>1000</td><td>80</td><td>NA</td><td>43930000</td><td>37</td><td>7</td><td>0.05841193</td><td>0.5120000</td><td>1</td><td>ctrx_quarter</td></tr>\n",
              "\t<tr><td>555251</td><td>-0.1</td><td>7</td><td>1000</td><td>80</td><td>NA</td><td>45320000</td><td>37</td><td>7</td><td>0.05491024</td><td>0.5636856</td><td>1</td><td>ctrx_quarter</td></tr>\n",
              "\t<tr><td>356999</td><td>-0.1</td><td>7</td><td>1000</td><td>80</td><td>NA</td><td>48080000</td><td>36</td><td>7</td><td>0.05572597</td><td>0.5828877</td><td>1</td><td>ctrx_quarter</td></tr>\n",
              "</tbody>\n",
              "</table>\n"
            ],
            "text/markdown": "\nA data.table: 16 × 13\n\n| semilla &lt;int&gt; | cp &lt;dbl&gt; | maxdepth &lt;dbl&gt; | minsplit &lt;dbl&gt; | minbucket &lt;dbl&gt; | ganancia_test &lt;dbl&gt; | ganancia_test_normalizada &lt;dbl&gt; | nodos_terminales &lt;int&gt; | profundidad_maxima &lt;dbl&gt; | precision &lt;dbl&gt; | recall &lt;dbl&gt; | error_relativo_min &lt;dbl&gt; | variable_mas_imp &lt;chr&gt; |\n|---|---|---|---|---|---|---|---|---|---|---|---|---|\n| 842473 | -0.1 | 7 | 1000 | 80 | NA | 52330000 | 45 | 7 | 0.06339888 | 0.5775401 | 1 | ctrx_quarter |\n| 674693 | -0.1 | 7 | 1000 | 80 | NA | 51920000 | 46 | 7 | 0.05738523 | 0.6052632 | 1 | ctrx_quarter |\n| 157489 | -0.1 | 7 | 1000 | 80 | NA | 46770000 | 45 | 7 | 0.05935939 | 0.5444744 | 1 | ctrx_quarter |\n| 789533 | -0.1 | 7 | 1000 | 80 | NA | 44060000 | 38 | 7 | 0.04984213 | 0.5893333 | 1 | ctrx_quarter |\n| 529847 | -0.1 | 7 | 1000 | 80 | NA | 52280000 | 39 | 7 | 0.05757727 | 0.6176471 | 1 | ctrx_quarter |\n| 688013 | -0.1 | 7 | 1000 | 80 | NA | 46640000 | 41 | 7 | 0.05913349 | 0.5315789 | 1 | ctrx_quarter |\n| 672593 | -0.1 | 7 | 1000 | 80 | NA | 49400000 | 39 | 7 | 0.06818182 | 0.5131579 | 1 | ctrx_quarter |\n| 281651 | -0.1 | 7 | 1000 | 80 | NA | 54170000 | 39 | 7 | 0.06042375 | 0.6143617 | 1 | ctrx_quarter |\n| 575027 | -0.1 | 7 | 1000 | 80 | NA | 40020000 | 42 | 7 | 0.05515371 | 0.4919355 | 1 | ctrx_quarter |\n| 332993 | -0.1 | 7 | 1000 | 80 | NA | 54990000 | 42 | 7 | 0.06876791 | 0.5775401 | 1 | ctrx_quarter |\n| 122011 | -0.1 | 7 | 1000 | 80 | NA | 50060000 | 34 | 7 | 0.06322541 | 0.5534759 | 1 | ctrx_quarter |\n| 206917 | -0.1 | 7 | 1000 | 80 | NA | 47370000 | 47 | 7 | 0.05177481 | 0.6122995 | 1 | ctrx_quarter |\n| 360049 | -0.1 | 7 | 1000 | 80 | NA | 52640000 | 41 | 7 | 0.06643577 | 0.5611702 | 1 | ctrx_quarter |\n| 895507 | -0.1 | 7 | 1000 | 80 | NA | 43930000 | 37 | 7 | 0.05841193 | 0.5120000 | 1 | ctrx_quarter |\n| 555251 | -0.1 | 7 | 1000 | 80 | NA | 45320000 | 37 | 7 | 0.05491024 | 0.5636856 | 1 | ctrx_quarter |\n| 356999 | -0.1 | 7 | 1000 | 80 | NA | 48080000 | 36 | 7 | 0.05572597 | 0.5828877 | 1 | ctrx_quarter |\n\n",
            "text/latex": "A data.table: 16 × 13\n\\begin{tabular}{lllllllllllll}\n semilla & cp & maxdepth & minsplit & minbucket & ganancia\\_test & ganancia\\_test\\_normalizada & nodos\\_terminales & profundidad\\_maxima & precision & recall & error\\_relativo\\_min & variable\\_mas\\_imp\\\\\n <int> & <dbl> & <dbl> & <dbl> & <dbl> & <dbl> & <dbl> & <int> & <dbl> & <dbl> & <dbl> & <dbl> & <chr>\\\\\n\\hline\n\t 842473 & -0.1 & 7 & 1000 & 80 & NA & 52330000 & 45 & 7 & 0.06339888 & 0.5775401 & 1 & ctrx\\_quarter\\\\\n\t 674693 & -0.1 & 7 & 1000 & 80 & NA & 51920000 & 46 & 7 & 0.05738523 & 0.6052632 & 1 & ctrx\\_quarter\\\\\n\t 157489 & -0.1 & 7 & 1000 & 80 & NA & 46770000 & 45 & 7 & 0.05935939 & 0.5444744 & 1 & ctrx\\_quarter\\\\\n\t 789533 & -0.1 & 7 & 1000 & 80 & NA & 44060000 & 38 & 7 & 0.04984213 & 0.5893333 & 1 & ctrx\\_quarter\\\\\n\t 529847 & -0.1 & 7 & 1000 & 80 & NA & 52280000 & 39 & 7 & 0.05757727 & 0.6176471 & 1 & ctrx\\_quarter\\\\\n\t 688013 & -0.1 & 7 & 1000 & 80 & NA & 46640000 & 41 & 7 & 0.05913349 & 0.5315789 & 1 & ctrx\\_quarter\\\\\n\t 672593 & -0.1 & 7 & 1000 & 80 & NA & 49400000 & 39 & 7 & 0.06818182 & 0.5131579 & 1 & ctrx\\_quarter\\\\\n\t 281651 & -0.1 & 7 & 1000 & 80 & NA & 54170000 & 39 & 7 & 0.06042375 & 0.6143617 & 1 & ctrx\\_quarter\\\\\n\t 575027 & -0.1 & 7 & 1000 & 80 & NA & 40020000 & 42 & 7 & 0.05515371 & 0.4919355 & 1 & ctrx\\_quarter\\\\\n\t 332993 & -0.1 & 7 & 1000 & 80 & NA & 54990000 & 42 & 7 & 0.06876791 & 0.5775401 & 1 & ctrx\\_quarter\\\\\n\t 122011 & -0.1 & 7 & 1000 & 80 & NA & 50060000 & 34 & 7 & 0.06322541 & 0.5534759 & 1 & ctrx\\_quarter\\\\\n\t 206917 & -0.1 & 7 & 1000 & 80 & NA & 47370000 & 47 & 7 & 0.05177481 & 0.6122995 & 1 & ctrx\\_quarter\\\\\n\t 360049 & -0.1 & 7 & 1000 & 80 & NA & 52640000 & 41 & 7 & 0.06643577 & 0.5611702 & 1 & ctrx\\_quarter\\\\\n\t 895507 & -0.1 & 7 & 1000 & 80 & NA & 43930000 & 37 & 7 & 0.05841193 & 0.5120000 & 1 & ctrx\\_quarter\\\\\n\t 555251 & -0.1 & 7 & 1000 & 80 & NA & 45320000 & 37 & 7 & 0.05491024 & 0.5636856 & 1 & ctrx\\_quarter\\\\\n\t 356999 & -0.1 & 7 & 1000 & 80 & NA & 48080000 & 36 & 7 & 0.05572597 & 0.5828877 & 1 & ctrx\\_quarter\\\\\n\\end{tabular}\n",
            "text/plain": [
              "   semilla cp   maxdepth minsplit minbucket ganancia_test\n",
              "1  842473  -0.1 7        1000     80        NA           \n",
              "2  674693  -0.1 7        1000     80        NA           \n",
              "3  157489  -0.1 7        1000     80        NA           \n",
              "4  789533  -0.1 7        1000     80        NA           \n",
              "5  529847  -0.1 7        1000     80        NA           \n",
              "6  688013  -0.1 7        1000     80        NA           \n",
              "7  672593  -0.1 7        1000     80        NA           \n",
              "8  281651  -0.1 7        1000     80        NA           \n",
              "9  575027  -0.1 7        1000     80        NA           \n",
              "10 332993  -0.1 7        1000     80        NA           \n",
              "11 122011  -0.1 7        1000     80        NA           \n",
              "12 206917  -0.1 7        1000     80        NA           \n",
              "13 360049  -0.1 7        1000     80        NA           \n",
              "14 895507  -0.1 7        1000     80        NA           \n",
              "15 555251  -0.1 7        1000     80        NA           \n",
              "16 356999  -0.1 7        1000     80        NA           \n",
              "   ganancia_test_normalizada nodos_terminales profundidad_maxima precision \n",
              "1  52330000                  45               7                  0.06339888\n",
              "2  51920000                  46               7                  0.05738523\n",
              "3  46770000                  45               7                  0.05935939\n",
              "4  44060000                  38               7                  0.04984213\n",
              "5  52280000                  39               7                  0.05757727\n",
              "6  46640000                  41               7                  0.05913349\n",
              "7  49400000                  39               7                  0.06818182\n",
              "8  54170000                  39               7                  0.06042375\n",
              "9  40020000                  42               7                  0.05515371\n",
              "10 54990000                  42               7                  0.06876791\n",
              "11 50060000                  34               7                  0.06322541\n",
              "12 47370000                  47               7                  0.05177481\n",
              "13 52640000                  41               7                  0.06643577\n",
              "14 43930000                  37               7                  0.05841193\n",
              "15 45320000                  37               7                  0.05491024\n",
              "16 48080000                  36               7                  0.05572597\n",
              "   recall    error_relativo_min variable_mas_imp\n",
              "1  0.5775401 1                  ctrx_quarter    \n",
              "2  0.6052632 1                  ctrx_quarter    \n",
              "3  0.5444744 1                  ctrx_quarter    \n",
              "4  0.5893333 1                  ctrx_quarter    \n",
              "5  0.6176471 1                  ctrx_quarter    \n",
              "6  0.5315789 1                  ctrx_quarter    \n",
              "7  0.5131579 1                  ctrx_quarter    \n",
              "8  0.6143617 1                  ctrx_quarter    \n",
              "9  0.4919355 1                  ctrx_quarter    \n",
              "10 0.5775401 1                  ctrx_quarter    \n",
              "11 0.5534759 1                  ctrx_quarter    \n",
              "12 0.6122995 1                  ctrx_quarter    \n",
              "13 0.5611702 1                  ctrx_quarter    \n",
              "14 0.5120000 1                  ctrx_quarter    \n",
              "15 0.5636856 1                  ctrx_quarter    \n",
              "16 0.5828877 1                  ctrx_quarter    "
            ]
          },
          "metadata": {}
        }
      ]
    },
    {
      "cell_type": "code",
      "source": [
        "# genero y grabo el resumen\n",
        "tb_grid_search <- tb_grid_search_detalle[,\n",
        "  list( \"ganancia_mean\" = mean(ganancia_test),\n",
        "    \"qty\" = .N ),\n",
        "  list( cp, maxdepth, minsplit, minbucket )\n",
        "]\n"
      ],
      "metadata": {
        "id": "DjCxtx8bIsgl"
      },
      "execution_count": 16,
      "outputs": []
    },
    {
      "cell_type": "code",
      "source": [
        "# ordeno descendente por ganancia\n",
        "setorder( tb_grid_search, -ganancia_mean )\n"
      ],
      "metadata": {
        "id": "LU29UhL1Ivg5"
      },
      "execution_count": 17,
      "outputs": []
    },
    {
      "cell_type": "code",
      "source": [
        "# veo los 10 mejores hiperparámetros\n",
        "tb_grid_search[1:10]"
      ],
      "metadata": {
        "id": "g-EjGY7aIyWL",
        "colab": {
          "base_uri": "https://localhost:8080/",
          "height": 412
        },
        "outputId": "b703d19f-d7a0-47c6-a69c-0909f90a1f1e"
      },
      "execution_count": 18,
      "outputs": [
        {
          "output_type": "display_data",
          "data": {
            "text/html": [
              "<table class=\"dataframe\">\n",
              "<caption>A data.table: 10 × 6</caption>\n",
              "<thead>\n",
              "\t<tr><th scope=col>cp</th><th scope=col>maxdepth</th><th scope=col>minsplit</th><th scope=col>minbucket</th><th scope=col>ganancia_mean</th><th scope=col>qty</th></tr>\n",
              "\t<tr><th scope=col>&lt;dbl&gt;</th><th scope=col>&lt;dbl&gt;</th><th scope=col>&lt;dbl&gt;</th><th scope=col>&lt;dbl&gt;</th><th scope=col>&lt;dbl&gt;</th><th scope=col>&lt;int&gt;</th></tr>\n",
              "</thead>\n",
              "<tbody>\n",
              "\t<tr><td>-0.1</td><td> 7</td><td>1000</td><td>80</td><td>NA</td><td>16</td></tr>\n",
              "\t<tr><td>  NA</td><td>NA</td><td>  NA</td><td>NA</td><td>NA</td><td>NA</td></tr>\n",
              "\t<tr><td>  NA</td><td>NA</td><td>  NA</td><td>NA</td><td>NA</td><td>NA</td></tr>\n",
              "\t<tr><td>  NA</td><td>NA</td><td>  NA</td><td>NA</td><td>NA</td><td>NA</td></tr>\n",
              "\t<tr><td>  NA</td><td>NA</td><td>  NA</td><td>NA</td><td>NA</td><td>NA</td></tr>\n",
              "\t<tr><td>  NA</td><td>NA</td><td>  NA</td><td>NA</td><td>NA</td><td>NA</td></tr>\n",
              "\t<tr><td>  NA</td><td>NA</td><td>  NA</td><td>NA</td><td>NA</td><td>NA</td></tr>\n",
              "\t<tr><td>  NA</td><td>NA</td><td>  NA</td><td>NA</td><td>NA</td><td>NA</td></tr>\n",
              "\t<tr><td>  NA</td><td>NA</td><td>  NA</td><td>NA</td><td>NA</td><td>NA</td></tr>\n",
              "\t<tr><td>  NA</td><td>NA</td><td>  NA</td><td>NA</td><td>NA</td><td>NA</td></tr>\n",
              "</tbody>\n",
              "</table>\n"
            ],
            "text/markdown": "\nA data.table: 10 × 6\n\n| cp &lt;dbl&gt; | maxdepth &lt;dbl&gt; | minsplit &lt;dbl&gt; | minbucket &lt;dbl&gt; | ganancia_mean &lt;dbl&gt; | qty &lt;int&gt; |\n|---|---|---|---|---|---|\n| -0.1 |  7 | 1000 | 80 | NA | 16 |\n|   NA | NA |   NA | NA | NA | NA |\n|   NA | NA |   NA | NA | NA | NA |\n|   NA | NA |   NA | NA | NA | NA |\n|   NA | NA |   NA | NA | NA | NA |\n|   NA | NA |   NA | NA | NA | NA |\n|   NA | NA |   NA | NA | NA | NA |\n|   NA | NA |   NA | NA | NA | NA |\n|   NA | NA |   NA | NA | NA | NA |\n|   NA | NA |   NA | NA | NA | NA |\n\n",
            "text/latex": "A data.table: 10 × 6\n\\begin{tabular}{llllll}\n cp & maxdepth & minsplit & minbucket & ganancia\\_mean & qty\\\\\n <dbl> & <dbl> & <dbl> & <dbl> & <dbl> & <int>\\\\\n\\hline\n\t -0.1 &  7 & 1000 & 80 & NA & 16\\\\\n\t   NA & NA &   NA & NA & NA & NA\\\\\n\t   NA & NA &   NA & NA & NA & NA\\\\\n\t   NA & NA &   NA & NA & NA & NA\\\\\n\t   NA & NA &   NA & NA & NA & NA\\\\\n\t   NA & NA &   NA & NA & NA & NA\\\\\n\t   NA & NA &   NA & NA & NA & NA\\\\\n\t   NA & NA &   NA & NA & NA & NA\\\\\n\t   NA & NA &   NA & NA & NA & NA\\\\\n\t   NA & NA &   NA & NA & NA & NA\\\\\n\\end{tabular}\n",
            "text/plain": [
              "   cp   maxdepth minsplit minbucket ganancia_mean qty\n",
              "1  -0.1  7       1000     80        NA            16 \n",
              "2    NA NA         NA     NA        NA            NA \n",
              "3    NA NA         NA     NA        NA            NA \n",
              "4    NA NA         NA     NA        NA            NA \n",
              "5    NA NA         NA     NA        NA            NA \n",
              "6    NA NA         NA     NA        NA            NA \n",
              "7    NA NA         NA     NA        NA            NA \n",
              "8    NA NA         NA     NA        NA            NA \n",
              "9    NA NA         NA     NA        NA            NA \n",
              "10   NA NA         NA     NA        NA            NA "
            ]
          },
          "metadata": {}
        }
      ]
    },
    {
      "cell_type": "code",
      "source": [
        "# genero un id a la tabla\n",
        "tb_grid_search[, id := .I ]\n",
        "\n",
        "fwrite( tb_grid_search,\n",
        "  file = \"gridsearch.txt\",\n",
        "  sep = \"\\t\"\n",
        ")\n"
      ],
      "metadata": {
        "id": "K3S-I2PTI5ZE"
      },
      "execution_count": 19,
      "outputs": []
    },
    {
      "cell_type": "markdown",
      "source": [
        "# 4.  Análisis de resultados de Grid Search"
      ],
      "metadata": {
        "id": "1rYHk1YkI_9k"
      }
    },
    {
      "cell_type": "markdown",
      "source": [
        "La salida de la corrida anterior queda en ~/buckets/b1/exp/HT2900  que corresponde a su Google Drive\n",
        "<br>HT significa Hyperparameter Tuning\n",
        "<br>El Grid Search es un método de fuerza bruta de un altísimo costo computacional.\n",
        "<br>Queremos ver si es posible crear un algoritmo de optimización de hiperparámetros que se ahorre recorrer ciertas porciones muy malas del espacio de búsqueda. Algo del estilo “cada vez que pruebo una combinación de hiperparámetros donde  cp > 1 , la ganancia es muy mala, con lo cual ni vale la pena perder el tiempo explorando en esa region”\n"
      ],
      "metadata": {
        "id": "ZTJgPhMWJHTk"
      }
    },
    {
      "cell_type": "markdown",
      "source": [
        "<br>Levante el archivo de salida gridsearch.txt  a una planilla tipo Excel y analícelo detenidamente\n",
        "<br>Ordene por ganancia_mean descendente\n",
        "<br>\n",
        "<br>El de mayor ganancia_mean  decimos que es el primero del ranking\n",
        "En Zulip, correspondiente channel  #Tarea Hogar 02 , topic Analisis Grid Search   intente contestar estas preguntas:\n",
        "\n",
        "* ¿Qué combinaciones de hiperparámetros poseen una ganancia muy buena?\n",
        "* ¿Hay algun hiperparámetro que para cierto valor siempre genera una ganancia muy mala, a independientemente de lo que valgan los otros hiperparámetros ?\n",
        "* ¿Que combinaciones de hiperparámetros es pésima y hubiera sido bueno ahorrarse esas corridas ?\n",
        "\n",
        "( tiempo estimado 30 minutos, dificultad media )"
      ],
      "metadata": {
        "id": "IaVgMu4tPwyB"
      }
    }
  ]
}