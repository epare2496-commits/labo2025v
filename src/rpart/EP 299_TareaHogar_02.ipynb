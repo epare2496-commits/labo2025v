{
  "nbformat": 4,
  "nbformat_minor": 0,
  "metadata": {
    "colab": {
      "provenance": [],
      "include_colab_link": true
    },
    "kernelspec": {
      "name": "ir",
      "display_name": "R"
    },
    "language_info": {
      "name": "R"
    }
  },
  "cells": [
    {
      "cell_type": "markdown",
      "metadata": {
        "id": "view-in-github",
        "colab_type": "text"
      },
      "source": [
        "<a href=\"https://colab.research.google.com/github/epare2496-commits/labo2025v/blob/main/src/rpart/EP%20299_TareaHogar_02.ipynb\" target=\"_parent\"><img src=\"https://colab.research.google.com/assets/colab-badge.svg\" alt=\"Open In Colab\"/></a>"
      ]
    },
    {
      "cell_type": "markdown",
      "source": [
        "# Tarea para el Hogar 02"
      ],
      "metadata": {
        "id": "F3r8aa3pBigj"
      }
    },
    {
      "cell_type": "markdown",
      "source": [
        "Esta Tarea para el Hogar 02 se entrega el final de la segunda clase\n",
        "<br> se espera de usted que intente avanzar con los desafios propuestos y que los traiga terminados para la Clase 03, ya que se analizarán los resultados"
      ],
      "metadata": {
        "id": "nBm4ktHUBmZt"
      }
    },
    {
      "cell_type": "markdown",
      "source": [
        "##  1. Ensembles de Modelos"
      ],
      "metadata": {
        "id": "TK-M04ElCESC"
      }
    },
    {
      "cell_type": "markdown",
      "source": [
        "Vea el siguiente video [BBC - The Code - The Wisdom of the Crowd](https://www.youtube.com/watch?v=iOucwX7Z1HU)    ( 5 min)\n"
      ],
      "metadata": {
        "id": "biPYxgobCOSS"
      }
    },
    {
      "cell_type": "markdown",
      "source": [
        "Lea los siguientes artículos\n",
        "\n",
        "\n",
        "*   [The Wisdom of Crowds (Vox Populi) by Francis Galton](https://www.all-about-psychology.com/the-wisdom-of-crowds.html)  (10 min)\n",
        "*   [A Gentle Introduction to Ensemble Learning](https://machinelearningmastery.com/what-is-ensemble-learning/)  (10 min)\n",
        "\n"
      ],
      "metadata": {
        "id": "FBszBRyNCcjp"
      }
    },
    {
      "cell_type": "markdown",
      "source": [
        "\n",
        "\n",
        "---\n",
        "\n"
      ],
      "metadata": {
        "id": "x7SebtV2lpHQ"
      }
    },
    {
      "cell_type": "markdown",
      "source": [
        "##  2.  Zero2Hero   primera parte\n",
        "Se han lanzado los primeros fascículos coleccionables llamados \"from Zero to Hero\" que muy detalladamente, paso a paso enseñan todo lo necesario de R para entender los scripts oficiales de la asignatura.\n",
        "Están en el repositorio oficial de la asignatura, carpeta  **src/zero2hero**"
      ],
      "metadata": {
        "id": "NQcY8u2MDSLT"
      }
    },
    {
      "cell_type": "markdown",
      "source": [
        "\n",
        "\n",
        "---\n",
        "\n"
      ],
      "metadata": {
        "id": "GcO0OSiIEAGy"
      }
    },
    {
      "cell_type": "markdown",
      "source": [
        "## 3.  Grid Search"
      ],
      "metadata": {
        "id": "6MStcyn0EBdT"
      }
    },
    {
      "cell_type": "markdown",
      "source": [
        "Busque en internet el precido significado de los hiperparámetros de la librería **rpart**  que está implementando el algoritmo **CART**  Classification and Regression Trees  propuesto en el año 1984 por Leo Brieman:\n",
        "\n",
        "*   cp\n",
        "*   maxdepth\n",
        "*   minsplit\n",
        "*   minbucket\n",
        "\n",
        "Entienda que valores es razonable tome cada hiperparámetro,  en particular profundice en el hiperparámetro  **cp**  y la posibilidad que tome valores negativos.  Es válido consultar a su amigo de *capacidades especiales*  ChatGPT\n"
      ],
      "metadata": {
        "id": "gM8RKXDgEIY0"
      }
    },
    {
      "cell_type": "markdown",
      "source": [
        "En las siguientes celdas a un notebook incompleto, un esqueleto de codigo brindado a modo de facilitarle la tarea de codeo y permitir que su valiosa cognición se concentre temas conceptuales de Ciencia de Datos\n",
        "\n",
        "Modifiquelo agregando loops para que recorra TODOS los hiperparámetros de rpart  < cp, maxdepth, minsplit, minbucket >, y luego póngalo a correr. Recuerde cambiar por SU semilla\n",
        "Tenga muy presente la granularidad que eligirá para cada hiperparámetro."
      ],
      "metadata": {
        "id": "_k7eT3HIFy9y"
      }
    },
    {
      "cell_type": "markdown",
      "source": [
        "### Seteo del ambiente en Google Colab"
      ],
      "metadata": {
        "id": "kmLygy1TYPfg"
      }
    },
    {
      "cell_type": "markdown",
      "source": [
        "Esta parte se debe correr con el runtime en Python3\n",
        "<br>Ir al menu, Runtime -> Change Runtime Tipe -> Runtime type ->  **Python 3**"
      ],
      "metadata": {
        "id": "OikOm5K2YU3X"
      }
    },
    {
      "cell_type": "markdown",
      "source": [
        "Conectar la virtual machine donde esta corriendo Google Colab con el  Google Drive, para poder tener persistencia de archivos"
      ],
      "metadata": {
        "id": "4fmV5LyZdFyI"
      }
    },
    {
      "cell_type": "code",
      "source": [
        "# primero establecer el Runtime de Python 3\n",
        "from google.colab import drive\n",
        "drive.mount('/content/.drive')"
      ],
      "metadata": {
        "id": "ilEZ-bE2VybW",
        "colab": {
          "base_uri": "https://localhost:8080/"
        },
        "outputId": "3b385933-b2a7-46e9-e8cf-a2f4fc2b11ba"
      },
      "execution_count": 1,
      "outputs": [
        {
          "output_type": "stream",
          "name": "stdout",
          "text": [
            "Mounted at /content/.drive\n"
          ]
        }
      ]
    },
    {
      "cell_type": "markdown",
      "source": [
        "Para correr la siguiente celda es fundamental en Arranque en Frio haber copiado el archivo kaggle.json al Google Drive, en la carpeta indicada en el instructivo\n",
        "\n",
        "<br>los siguientes comando estan en shell script de Linux\n",
        "*   Crear las carpetas en el Google Drive\n",
        "*   \"instalar\" el archivo kaggle.json desde el Google Drive a la virtual machine para que pueda ser utilizado por la libreria  kaggle de Python\n",
        "*   Bajar el  **dataset_pequeno**  al  Google Drive  y tambien al disco local de la virtual machine que esta corriendo Google Colab\n",
        "\n"
      ],
      "metadata": {
        "id": "ilaKtqWldeWg"
      }
    },
    {
      "cell_type": "code",
      "source": [
        "%%shell\n",
        "\n",
        "mkdir -p \"/content/.drive/My Drive/labo1\"\n",
        "mkdir -p \"/content/buckets\"\n",
        "ln -s \"/content/.drive/My Drive/labo1\" /content/buckets/b1\n",
        "\n",
        "mkdir -p ~/.kaggle\n",
        "cp /content/buckets/b1/kaggle/kaggle.json  ~/.kaggle\n",
        "chmod 600 ~/.kaggle/kaggle.json\n",
        "\n",
        "\n",
        "mkdir -p /content/buckets/b1/exp\n",
        "mkdir -p /content/buckets/b1/datasets\n",
        "mkdir -p /content/datasets\n",
        "\n",
        "\n",
        "\n",
        "archivo_origen=\"https://storage.googleapis.com/open-courses/austral2025-af91/dataset_pequeno.csv\"\n",
        "archivo_destino=\"/content/datasets/dataset_pequeno.csv\"\n",
        "archivo_destino_bucket=\"/content/buckets/b1/datasets/dataset_pequeno.csv\"\n",
        "\n",
        "if ! test -f $archivo_destino_bucket; then\n",
        "  wget  $archivo_origen  -O $archivo_destino_bucket\n",
        "fi\n",
        "\n",
        "\n",
        "if ! test -f $archivo_destino; then\n",
        "  cp  $archivo_destino_bucket  $archivo_destino\n",
        "fi\n",
        "\n"
      ],
      "metadata": {
        "id": "W8dQFI5QYCFa",
        "colab": {
          "base_uri": "https://localhost:8080/"
        },
        "outputId": "7955d860-2ed8-4a42-f55b-6b8946da1f4a"
      },
      "execution_count": 2,
      "outputs": [
        {
          "output_type": "execute_result",
          "data": {
            "text/plain": []
          },
          "metadata": {},
          "execution_count": 2
        }
      ]
    },
    {
      "cell_type": "markdown",
      "source": [
        "limpio el ambiente de R"
      ],
      "metadata": {
        "id": "SE94XRhWsxkX"
      }
    },
    {
      "cell_type": "code",
      "source": [
        "# limpio la memoria\n",
        "rm(list=ls(all.names=TRUE)) # remove all objects\n",
        "gc(full=TRUE, verbose=FALSE) # garbage collection"
      ],
      "metadata": {
        "id": "oZG_4br6szlT",
        "colab": {
          "base_uri": "https://localhost:8080/",
          "height": 129
        },
        "outputId": "1112e08f-9872-4d51-b7ba-a1b4b98beca2"
      },
      "execution_count": 1,
      "outputs": [
        {
          "output_type": "display_data",
          "data": {
            "text/html": [
              "<table class=\"dataframe\">\n",
              "<caption>A matrix: 2 × 6 of type dbl</caption>\n",
              "<thead>\n",
              "\t<tr><th></th><th scope=col>used</th><th scope=col>(Mb)</th><th scope=col>gc trigger</th><th scope=col>(Mb)</th><th scope=col>max used</th><th scope=col>(Mb)</th></tr>\n",
              "</thead>\n",
              "<tbody>\n",
              "\t<tr><th scope=row>Ncells</th><td> 657245</td><td>35.2</td><td>1454460</td><td>77.7</td><td>1326122</td><td>70.9</td></tr>\n",
              "\t<tr><th scope=row>Vcells</th><td>1220272</td><td> 9.4</td><td>8388608</td><td>64.0</td><td>1975128</td><td>15.1</td></tr>\n",
              "</tbody>\n",
              "</table>\n"
            ],
            "text/markdown": "\nA matrix: 2 × 6 of type dbl\n\n| <!--/--> | used | (Mb) | gc trigger | (Mb) | max used | (Mb) |\n|---|---|---|---|---|---|---|\n| Ncells |  657245 | 35.2 | 1454460 | 77.7 | 1326122 | 70.9 |\n| Vcells | 1220272 |  9.4 | 8388608 | 64.0 | 1975128 | 15.1 |\n\n",
            "text/latex": "A matrix: 2 × 6 of type dbl\n\\begin{tabular}{r|llllll}\n  & used & (Mb) & gc trigger & (Mb) & max used & (Mb)\\\\\n\\hline\n\tNcells &  657245 & 35.2 & 1454460 & 77.7 & 1326122 & 70.9\\\\\n\tVcells & 1220272 &  9.4 & 8388608 & 64.0 & 1975128 & 15.1\\\\\n\\end{tabular}\n",
            "text/plain": [
              "       used    (Mb) gc trigger (Mb) max used (Mb)\n",
              "Ncells  657245 35.2 1454460    77.7 1326122  70.9\n",
              "Vcells 1220272  9.4 8388608    64.0 1975128  15.1"
            ]
          },
          "metadata": {}
        }
      ]
    },
    {
      "cell_type": "code",
      "source": [
        "# cargo las librerias que necesito\n",
        "require(\"data.table\")\n",
        "require(\"rpart\")\n",
        "require(\"parallel\")\n",
        "if (!require(\"primes\")) install.packages(\"primes\")\n",
        "require(\"primes\")"
      ],
      "metadata": {
        "id": "JO-12d7YHkWy",
        "colab": {
          "base_uri": "https://localhost:8080/"
        },
        "outputId": "4b4498c6-63b7-4afb-e9fe-5f4308563f3f"
      },
      "execution_count": 2,
      "outputs": [
        {
          "output_type": "stream",
          "name": "stderr",
          "text": [
            "Loading required package: data.table\n",
            "\n",
            "Loading required package: rpart\n",
            "\n",
            "Loading required package: parallel\n",
            "\n",
            "Loading required package: primes\n",
            "\n",
            "Warning message in library(package, lib.loc = lib.loc, character.only = TRUE, logical.return = TRUE, :\n",
            "“there is no package called ‘primes’”\n",
            "Installing package into ‘/usr/local/lib/R/site-library’\n",
            "(as ‘lib’ is unspecified)\n",
            "\n",
            "Loading required package: primes\n",
            "\n"
          ]
        }
      ]
    },
    {
      "cell_type": "markdown",
      "source": [
        "Aqui debe poner SU semiila primigenia"
      ],
      "metadata": {
        "id": "0MclPEJ6Q8Bp"
      }
    },
    {
      "cell_type": "code",
      "source": [
        "PARAM <- list()\n",
        "# reemplazar por su primer semilla\n",
        "PARAM$semilla_primigenia <- 100009\n",
        "PARAM$qsemillas <- 1\n",
        "\n",
        "PARAM$training_pct <- 70L  # entre  1L y 99L\n",
        "\n",
        "# elegir SU dataset comentando/ descomentando\n",
        "PARAM$dataset_nom <- \"~/datasets/dataset_pequeno.csv\""
      ],
      "metadata": {
        "id": "Vt5fC6bWHu5r"
      },
      "execution_count": 3,
      "outputs": []
    },
    {
      "cell_type": "code",
      "source": [
        "# particionar agrega una columna llamada fold a un dataset\n",
        "#  que consiste en una particion estratificada segun agrupa\n",
        "# particionar( data=dataset, division=c(70,30), agrupa=clase_ternaria, seed=semilla)\n",
        "#   crea una particion 70, 30\n",
        "\n",
        "particionar <- function(data, division, agrupa = \"\", campo = \"fold\", start = 1, seed = NA) {\n",
        "  if (!is.na(seed)) set.seed(seed)\n",
        "\n",
        "  bloque <- unlist(mapply(function(x, y) {\n",
        "    rep(y, x)\n",
        "  }, division, seq(from = start, length.out = length(division))))\n",
        "\n",
        "  data[, (campo) := sample(rep(bloque, ceiling(.N / length(bloque))))[1:.N],\n",
        "    by = agrupa\n",
        "  ]\n",
        "}\n"
      ],
      "metadata": {
        "id": "Z1dchsrWH4MD"
      },
      "execution_count": 4,
      "outputs": []
    },
    {
      "cell_type": "code",
      "source": [
        "ArbolEstimarGanancia <- function(semilla, training_pct, param_basicos, PARAM) {\n",
        "  # (Se asume que las funciones 'particionar' y 'dataset' están disponibles)\n",
        "\n",
        "  # 1. Particionar el dataset\n",
        "  particionar(dataset, division = c(training_pct, 100L - training_pct), agrupa = \"clase_ternaria\", seed = semilla)\n",
        "\n",
        "  # 2. Generar el modelo (rpart)\n",
        "  modelo <- rpart(\"clase_ternaria ~ .\", data = dataset[fold == 1], xval = 0, control = param_basicos)\n",
        "\n",
        "  # 3. Aplicar el modelo a testing\n",
        "  df_testing <- dataset[fold == 2]\n",
        "  prediccion <- predict(modelo, df_testing, type = \"prob\")\n",
        "\n",
        "  # --- Cálculo de la Ganancia y Métricas (Basado en Umbral 0.025) ---\n",
        "\n",
        "  # Clientes que el modelo DECIDIÓ CONTACTAR (Prob > 0.025)\n",
        "  decision_contacto <- prediccion[, \"BAJA+2\"] > 0.025\n",
        "\n",
        "  # Realidad de los clientes en testing\n",
        "  realidad_baja2 <- df_testing$clase_ternaria == \"BAJA+2\"\n",
        "\n",
        "  # Componentes de la Matriz de Confusión:\n",
        "  VP <- sum(decision_contacto & realidad_baja2)       # True Positives (Ganancia 117000)\n",
        "  FP <- sum(decision_contacto & !realidad_baja2)      # False Positives (Pérdida -3000)\n",
        "  FN <- sum(!decision_contacto & realidad_baja2)      # False Negatives (Oportunidad Perdida)\n",
        "\n",
        "  # Cálculo de Métricas\n",
        "  Precision <- ifelse((VP + FP) > 0, VP / (VP + FP), 0) # Si se contacta a alguien (VP + FP) > 0\n",
        "  Recall <- ifelse((VP + FN) > 0, VP / (VP + FN), 0)     # Si hay casos BAJA+2 reales (VP + FN) > 0\n",
        "\n",
        "  # 4. Cálculo de la ganancia en testing (Se mantiene el código original)\n",
        "  ganancia_test <- VP * 117000 + FP * (-3000)\n",
        "\n",
        "  # 5. Normalizar la ganancia\n",
        "  prop_testing <- (100 - training_pct) / 100\n",
        "  ganancia_test_normalizada <- ganancia_test / prop_testing\n",
        "\n",
        "  # --- Métricas de Diagnóstico ADICIONALES (Reutilizadas) ---\n",
        "  nodos_terminales <- sum(modelo$frame$var == \"<leaf>\")\n",
        "  profundidad_maxima <- max(floor(log2(as.numeric(row.names(modelo$frame[modelo$frame$var == \"<leaf>\",])))))\n",
        "  error_relativo_min <- min(modelo$cptable[, \"rel error\"])\n",
        "  imp_vars <- modelo$variable.importance\n",
        "  variable_mas_imp <- if (length(imp_vars) > 0) names(imp_vars)[1] else \"N/A\"\n",
        "\n",
        "  # 6. Devolver el resultado\n",
        "  return(\n",
        "    c(list(\n",
        "      \"semilla\" = semilla\n",
        "    ),\n",
        "      param_basicos,\n",
        "      list(\n",
        "        \"ganancia_test_normalizada\" = ganancia_test_normalizada,\n",
        "        \"nodos_terminales\" = nodos_terminales,\n",
        "        \"profundidad_maxima\" = profundidad_maxima,\n",
        "        \"precision\" = Precision,\n",
        "        \"recall\" = Recall,\n",
        "        \"error_relativo_min\" = error_relativo_min,\n",
        "        \"variable_mas_imp\" = variable_mas_imp\n",
        "      )\n",
        "    )\n",
        "  )\n",
        "}"
      ],
      "metadata": {
        "id": "xsHwS1CzIA70"
      },
      "execution_count": 5,
      "outputs": []
    },
    {
      "cell_type": "code",
      "source": [
        "ArbolesMontecarlo <- function(semillas, param_basicos) {\n",
        "\n",
        "  # la funcion mcmapply  llama a la funcion ArbolEstimarGanancia\n",
        "  #  tantas veces como valores tenga el vector  PARAM$semillas\n",
        "  salida <- mcmapply(ArbolEstimarGanancia,\n",
        "    semillas, # paso el vector de semillas\n",
        "    MoreArgs = list(PARAM$training_pct, param_basicos), # aqui paso el segundo parametro\n",
        "    SIMPLIFY = FALSE,\n",
        "    mc.cores = detectCores()\n",
        "  )\n",
        "\n",
        "  return(salida)\n",
        "}\n"
      ],
      "metadata": {
        "id": "BvBVOuhqIEjD"
      },
      "execution_count": 6,
      "outputs": []
    },
    {
      "cell_type": "code",
      "source": [
        "# carpeta de trabajo\n",
        "# por favor cambiar numero de experimento si se cambia el loop principal\n",
        "setwd(\"/content/buckets/b1/exp\")\n",
        "experimento <- \"HT2909\"\n",
        "dir.create(experimento, showWarnings=FALSE)\n",
        "setwd( paste0(\"/content/buckets/b1/exp/\", experimento ))"
      ],
      "metadata": {
        "id": "L-DOGHOjIG7G"
      },
      "execution_count": 7,
      "outputs": []
    },
    {
      "cell_type": "code",
      "source": [
        "# lectura del dataset\n",
        "dataset <- fread(\"/content/datasets/dataset_pequeno.csv\")\n",
        "\n",
        "# trabajo solo con los datos con clase, es decir 202107\n",
        "dataset <- dataset[clase_ternaria != \"\"]"
      ],
      "metadata": {
        "id": "NM-mrLWcIPo6"
      },
      "execution_count": 8,
      "outputs": []
    },
    {
      "cell_type": "code",
      "source": [
        "\n",
        "# genero numeros primos\n",
        "primos <- generate_primes(min = 100000, max = 1000000)\n",
        "set.seed(PARAM$semilla_primigenia) # inicializo\n",
        "# me quedo con PARAM$qsemillas   semillas\n",
        "PARAM$semillas <- sample(primos, PARAM$qsemillas )\n"
      ],
      "metadata": {
        "id": "tSlY0EcgIWdi"
      },
      "execution_count": 9,
      "outputs": []
    },
    {
      "cell_type": "code",
      "source": [
        "# genero la data.table donde van los resultados detallados del Grid Search\n",
        "# un registro para cada combinacion de < semilla, parametros >\n",
        "\n",
        "if(file.exists(\"gridsearch_detalle.txt\")){\n",
        "  tb_grid_search_detalle <- fread(\"gridsearch_detalle.txt\")\n",
        "}else{\n",
        "  tb_grid_search_detalle <- data.table(\n",
        "    semilla = integer(),\n",
        "    cp = numeric(),\n",
        "    maxdepth = integer(),\n",
        "   minsplit = integer(),\n",
        "    minbucket = integer(),\n",
        "    ganancia_test = numeric()\n",
        "  )\n",
        "}\n",
        "\n",
        "nrow( tb_grid_search_detalle )"
      ],
      "metadata": {
        "id": "xxCAwIKyIaTl",
        "colab": {
          "base_uri": "https://localhost:8080/",
          "height": 34
        },
        "outputId": "976fc727-06bc-4f58-a20a-f9105d233bb5"
      },
      "execution_count": 10,
      "outputs": [
        {
          "output_type": "display_data",
          "data": {
            "text/html": [
              "0"
            ],
            "text/markdown": "0",
            "text/latex": "0",
            "text/plain": [
              "[1] 0"
            ]
          },
          "metadata": {}
        }
      ]
    },
    {
      "cell_type": "markdown",
      "source": [
        "Esta es la parte del código que usted debe expandir a TODOS los hiperparámetros de rpart,\n",
        "<br>ya que actualmente apenas recorre  maxdepth y  minsplit  dejando fijos  cp=-0.5  y minbucket=5"
      ],
      "metadata": {
        "id": "eAuGBNL8IkOD"
      }
    },
    {
      "cell_type": "code",
      "source": [
        "# @title\n",
        "\n",
        "# itero por los loops anidados para cada hiperparametro\n",
        "\n",
        "iter <- 0\n",
        "\n",
        "# LOOP 1: Complexity Parameter (cp)\n",
        "for (vcp in c(-0.01, 0.01, 0.05)) {\n",
        "\n",
        "  # LOOP 2: Minimum Bucket Size (minbucket)\n",
        "  for (vmin_bucket in c(65, 75, 90)) {\n",
        "\n",
        "    # LOOP 3: Maximum Depth (maxdepth)\n",
        "    for (vmax_depth in c( 8, 10, 15, 30)) {\n",
        "\n",
        "      # LOOP 4: Minimum Split Size (minsplit)\n",
        "      for (vmin_split in c(500,800, 1200, 2000, 1400)) {\n",
        "\n",
        "        # Notar que la iteración total es ahora 3 * 3 * 6 * 5 = 270\n",
        "        iter <- iter + 1\n",
        "        cat( iter, \" \" )\n",
        "        flush.console()\n",
        "        if( iter*PARAM$qsemillas < nrow(tb_grid_search_detalle)+1 ) next\n",
        "\n",
        "        # Definición de Hiperparámetros\n",
        "        param_basicos <- list(\n",
        "          \"cp\" = vcp,             # complejidad\n",
        "          \"maxdepth\" = vmax_depth, # profundidad maxima del arbol\n",
        "          \"minsplit\" = vmin_split, # tamaño minimo de nodo para split\n",
        "          \"minbucket\" = vmin_bucket # minima cantidad de registros en una hoja\n",
        "        )\n",
        "\n",
        "        # Un solo llamado, con la semilla 17\n",
        "        ganancias <- ArbolesMontecarlo(PARAM$semillas, param_basicos)\n",
        "\n",
        "        # agrego a la tabla\n",
        "        tb_grid_search_detalle <- rbindlist(\n",
        "          list( tb_grid_search_detalle,\n",
        "                rbindlist(ganancias) ), fill = TRUE\n",
        "        )\n",
        "\n",
        "      } # Fin Loop minsplit\n",
        "\n",
        "    } # Fin Loop maxdepth\n",
        "\n",
        "    # IMPORTANTE: El guardado ocurre aquí, después de completar todas las combinaciones de minsplit y maxdepth\n",
        "    # para un valor específico de CP y MINBUCKET.\n",
        "\n",
        "    # grabo cada vez TODA la tabla en el loop mas externo\n",
        "    fwrite( tb_grid_search_detalle,\n",
        "            file = \"gridsearch_detalle.txt\",\n",
        "            sep = \"\\t\" )\n",
        "\n",
        "  } # Fin Loop minbucket\n",
        "\n",
        "} # Fin Loop cp"
      ],
      "metadata": {
        "id": "ipLHm3STIfmb",
        "colab": {
          "base_uri": "https://localhost:8080/"
        },
        "outputId": "5cfa2471-0499-4656-e455-c17ae1941e46"
      },
      "execution_count": 12,
      "outputs": [
        {
          "output_type": "stream",
          "name": "stdout",
          "text": [
            "1  2  3  4  5  6  7  8  9  10  11  12  13  14  15  16  17  18  19  20  21  22  23  24  25  26  27  28  29  30  31  32  33  34  35  36  37  38  39  40  41  42  43  44  45  46  47  48  49  50  51  52  53  54  55  56  57  58  59  60  61  62  63  64  65  66  67  68  69  70  71  72  73  74  75  76  77  78  79  80  81  82  83  84  85  86  87  88  89  90  91  92  93  94  95  96  97  98  99  100  101  102  103  104  105  106  107  108  109  110  111  112  113  114  115  116  117  118  119  120  121  122  123  124  125  126  127  128  129  130  131  132  133  134  135  136  137  138  139  140  141  142  143  144  145  146  147  148  149  150  151  152  153  154  155  156  157  158  159  160  161  162  163  164  165  166  167  168  169  170  171  172  173  174  175  176  177  178  179  180  "
          ]
        }
      ]
    },
    {
      "cell_type": "code",
      "source": [],
      "metadata": {
        "id": "m8WHFKd4h5mf"
      },
      "execution_count": null,
      "outputs": []
    },
    {
      "cell_type": "code",
      "source": [
        "fwrite( tb_grid_search_detalle,\n",
        "   file = \"gridsearch_detalle.txt\",\n",
        "   sep = \"\\t\"\n",
        ")"
      ],
      "metadata": {
        "id": "WZaSqYBxiDFu"
      },
      "execution_count": 13,
      "outputs": []
    },
    {
      "cell_type": "code",
      "source": [
        "# cantidad de registros de la tabla\n",
        "nrow(tb_grid_search_detalle)"
      ],
      "metadata": {
        "id": "STp0duM-RYVJ",
        "colab": {
          "base_uri": "https://localhost:8080/",
          "height": 34
        },
        "outputId": "d261bb22-3bdf-4740-813e-2236f7dd20d8"
      },
      "execution_count": 14,
      "outputs": [
        {
          "output_type": "display_data",
          "data": {
            "text/html": [
              "180"
            ],
            "text/markdown": "180",
            "text/latex": "180",
            "text/plain": [
              "[1] 180"
            ]
          },
          "metadata": {}
        }
      ]
    },
    {
      "cell_type": "code",
      "source": [
        "# muestro la tabla\n",
        "tb_grid_search_detalle"
      ],
      "metadata": {
        "id": "k7fhk_H0iNez",
        "colab": {
          "base_uri": "https://localhost:8080/",
          "height": 1000
        },
        "outputId": "a53ddbeb-e29b-4155-83b7-ea708a18efb1"
      },
      "execution_count": 15,
      "outputs": [
        {
          "output_type": "display_data",
          "data": {
            "text/html": [
              "<table class=\"dataframe\">\n",
              "<caption>A data.table: 180 × 13</caption>\n",
              "<thead>\n",
              "\t<tr><th scope=col>semilla</th><th scope=col>cp</th><th scope=col>maxdepth</th><th scope=col>minsplit</th><th scope=col>minbucket</th><th scope=col>ganancia_test</th><th scope=col>ganancia_test_normalizada</th><th scope=col>nodos_terminales</th><th scope=col>profundidad_maxima</th><th scope=col>precision</th><th scope=col>recall</th><th scope=col>error_relativo_min</th><th scope=col>variable_mas_imp</th></tr>\n",
              "\t<tr><th scope=col>&lt;int&gt;</th><th scope=col>&lt;dbl&gt;</th><th scope=col>&lt;dbl&gt;</th><th scope=col>&lt;dbl&gt;</th><th scope=col>&lt;dbl&gt;</th><th scope=col>&lt;dbl&gt;</th><th scope=col>&lt;dbl&gt;</th><th scope=col>&lt;int&gt;</th><th scope=col>&lt;dbl&gt;</th><th scope=col>&lt;dbl&gt;</th><th scope=col>&lt;dbl&gt;</th><th scope=col>&lt;dbl&gt;</th><th scope=col>&lt;chr&gt;</th></tr>\n",
              "</thead>\n",
              "<tbody>\n",
              "\t<tr><td>842473</td><td>-0.01</td><td> 8</td><td> 500</td><td>65</td><td>NA</td><td>52070000</td><td> 64</td><td> 8</td><td>0.06576887</td><td>0.5614973</td><td>1</td><td>ctrx_quarter</td></tr>\n",
              "\t<tr><td>842473</td><td>-0.01</td><td> 8</td><td> 800</td><td>65</td><td>NA</td><td>51480000</td><td> 59</td><td> 8</td><td>0.06609195</td><td>0.5534759</td><td>1</td><td>ctrx_quarter</td></tr>\n",
              "\t<tr><td>842473</td><td>-0.01</td><td> 8</td><td>1200</td><td>65</td><td>NA</td><td>52730000</td><td> 53</td><td> 8</td><td>0.06037027</td><td>0.6016043</td><td>1</td><td>ctrx_quarter</td></tr>\n",
              "\t<tr><td>842473</td><td>-0.01</td><td> 8</td><td>2000</td><td>65</td><td>NA</td><td>51360000</td><td> 41</td><td> 8</td><td>0.05788934</td><td>0.6042781</td><td>1</td><td>ctrx_quarter</td></tr>\n",
              "\t<tr><td>842473</td><td>-0.01</td><td> 8</td><td>1400</td><td>65</td><td>NA</td><td>51870000</td><td> 49</td><td> 8</td><td>0.05936920</td><td>0.5989305</td><td>1</td><td>ctrx_quarter</td></tr>\n",
              "\t<tr><td>842473</td><td>-0.01</td><td>10</td><td> 500</td><td>65</td><td>NA</td><td>50350000</td><td>102</td><td>10</td><td>0.05611867</td><td>0.6069519</td><td>1</td><td>ctrx_quarter</td></tr>\n",
              "\t<tr><td>842473</td><td>-0.01</td><td>10</td><td> 800</td><td>65</td><td>NA</td><td>51660000</td><td> 91</td><td>10</td><td>0.05670103</td><td>0.6176471</td><td>1</td><td>ctrx_quarter</td></tr>\n",
              "\t<tr><td>842473</td><td>-0.01</td><td>10</td><td>1200</td><td>65</td><td>NA</td><td>52990000</td><td> 77</td><td>10</td><td>0.05417309</td><td>0.6577540</td><td>1</td><td>ctrx_quarter</td></tr>\n",
              "\t<tr><td>842473</td><td>-0.01</td><td>10</td><td>2000</td><td>65</td><td>NA</td><td>50980000</td><td> 56</td><td>10</td><td>0.05733130</td><td>0.6042781</td><td>1</td><td>ctrx_quarter</td></tr>\n",
              "\t<tr><td>842473</td><td>-0.01</td><td>10</td><td>1400</td><td>65</td><td>NA</td><td>52440000</td><td> 70</td><td>10</td><td>0.05377524</td><td>0.6550802</td><td>1</td><td>ctrx_quarter</td></tr>\n",
              "\t<tr><td>842473</td><td>-0.01</td><td>15</td><td> 500</td><td>65</td><td>NA</td><td>45650000</td><td>170</td><td>15</td><td>0.05144844</td><td>0.5935829</td><td>1</td><td>ctrx_quarter</td></tr>\n",
              "\t<tr><td>842473</td><td>-0.01</td><td>15</td><td> 800</td><td>65</td><td>NA</td><td>48790000</td><td>140</td><td>15</td><td>0.05128205</td><td>0.6363636</td><td>1</td><td>ctrx_quarter</td></tr>\n",
              "\t<tr><td>842473</td><td>-0.01</td><td>15</td><td>1200</td><td>65</td><td>NA</td><td>52770000</td><td>114</td><td>15</td><td>0.05391190</td><td>0.6577540</td><td>1</td><td>ctrx_quarter</td></tr>\n",
              "\t<tr><td>842473</td><td>-0.01</td><td>15</td><td>2000</td><td>65</td><td>NA</td><td>50760000</td><td> 85</td><td>15</td><td>0.05701312</td><td>0.6042781</td><td>1</td><td>ctrx_quarter</td></tr>\n",
              "\t<tr><td>842473</td><td>-0.01</td><td>15</td><td>1400</td><td>65</td><td>NA</td><td>52220000</td><td>105</td><td>15</td><td>0.05351682</td><td>0.6550802</td><td>1</td><td>ctrx_quarter</td></tr>\n",
              "\t<tr><td>842473</td><td>-0.01</td><td>30</td><td> 500</td><td>65</td><td>NA</td><td>44970000</td><td>212</td><td>24</td><td>0.05065024</td><td>0.5935829</td><td>1</td><td>ctrx_quarter</td></tr>\n",
              "\t<tr><td>842473</td><td>-0.01</td><td>30</td><td> 800</td><td>65</td><td>NA</td><td>48110000</td><td>179</td><td>23</td><td>0.05054152</td><td>0.6363636</td><td>1</td><td>ctrx_quarter</td></tr>\n",
              "\t<tr><td>842473</td><td>-0.01</td><td>30</td><td>1200</td><td>65</td><td>NA</td><td>52090000</td><td>149</td><td>23</td><td>0.05312028</td><td>0.6577540</td><td>1</td><td>ctrx_quarter</td></tr>\n",
              "\t<tr><td>842473</td><td>-0.01</td><td>30</td><td>2000</td><td>65</td><td>NA</td><td>50760000</td><td>112</td><td>23</td><td>0.05701312</td><td>0.6042781</td><td>1</td><td>ctrx_quarter</td></tr>\n",
              "\t<tr><td>842473</td><td>-0.01</td><td>30</td><td>1400</td><td>65</td><td>NA</td><td>51880000</td><td>137</td><td>23</td><td>0.05312229</td><td>0.6550802</td><td>1</td><td>ctrx_quarter</td></tr>\n",
              "\t<tr><td>842473</td><td>-0.01</td><td> 8</td><td> 500</td><td>75</td><td>NA</td><td>52290000</td><td> 63</td><td> 8</td><td>0.06424497</td><td>0.5721925</td><td>1</td><td>ctrx_quarter</td></tr>\n",
              "\t<tr><td>842473</td><td>-0.01</td><td> 8</td><td> 800</td><td>75</td><td>NA</td><td>51120000</td><td> 58</td><td> 8</td><td>0.06585678</td><td>0.5508021</td><td>1</td><td>ctrx_quarter</td></tr>\n",
              "\t<tr><td>842473</td><td>-0.01</td><td> 8</td><td>1200</td><td>75</td><td>NA</td><td>52370000</td><td> 53</td><td> 8</td><td>0.06016653</td><td>0.5989305</td><td>1</td><td>ctrx_quarter</td></tr>\n",
              "\t<tr><td>842473</td><td>-0.01</td><td> 8</td><td>2000</td><td>75</td><td>NA</td><td>51030000</td><td> 41</td><td> 8</td><td>0.05773672</td><td>0.6016043</td><td>1</td><td>ctrx_quarter</td></tr>\n",
              "\t<tr><td>842473</td><td>-0.01</td><td> 8</td><td>1400</td><td>75</td><td>NA</td><td>51530000</td><td> 49</td><td> 8</td><td>0.05919830</td><td>0.5962567</td><td>1</td><td>ctrx_quarter</td></tr>\n",
              "\t<tr><td>842473</td><td>-0.01</td><td>10</td><td> 500</td><td>75</td><td>NA</td><td>50500000</td><td> 99</td><td>10</td><td>0.05601966</td><td>0.6096257</td><td>1</td><td>ctrx_quarter</td></tr>\n",
              "\t<tr><td>842473</td><td>-0.01</td><td>10</td><td> 800</td><td>75</td><td>NA</td><td>51250000</td><td> 90</td><td>10</td><td>0.05644172</td><td>0.6149733</td><td>1</td><td>ctrx_quarter</td></tr>\n",
              "\t<tr><td>842473</td><td>-0.01</td><td>10</td><td>1200</td><td>75</td><td>NA</td><td>52600000</td><td> 77</td><td>10</td><td>0.05396476</td><td>0.6550802</td><td>1</td><td>ctrx_quarter</td></tr>\n",
              "\t<tr><td>842473</td><td>-0.01</td><td>10</td><td>2000</td><td>75</td><td>NA</td><td>50650000</td><td> 56</td><td>10</td><td>0.05717916</td><td>0.6016043</td><td>1</td><td>ctrx_quarter</td></tr>\n",
              "\t<tr><td>842473</td><td>-0.01</td><td>10</td><td>1400</td><td>75</td><td>NA</td><td>52100000</td><td> 70</td><td>10</td><td>0.05362637</td><td>0.6524064</td><td>1</td><td>ctrx_quarter</td></tr>\n",
              "\t<tr><td>⋮</td><td>⋮</td><td>⋮</td><td>⋮</td><td>⋮</td><td>⋮</td><td>⋮</td><td>⋮</td><td>⋮</td><td>⋮</td><td>⋮</td><td>⋮</td><td>⋮</td></tr>\n",
              "\t<tr><td>842473</td><td>0.05</td><td>15</td><td> 500</td><td>75</td><td>NA</td><td>0</td><td>1</td><td>0</td><td>0</td><td>0</td><td>1</td><td>N/A</td></tr>\n",
              "\t<tr><td>842473</td><td>0.05</td><td>15</td><td> 800</td><td>75</td><td>NA</td><td>0</td><td>1</td><td>0</td><td>0</td><td>0</td><td>1</td><td>N/A</td></tr>\n",
              "\t<tr><td>842473</td><td>0.05</td><td>15</td><td>1200</td><td>75</td><td>NA</td><td>0</td><td>1</td><td>0</td><td>0</td><td>0</td><td>1</td><td>N/A</td></tr>\n",
              "\t<tr><td>842473</td><td>0.05</td><td>15</td><td>2000</td><td>75</td><td>NA</td><td>0</td><td>1</td><td>0</td><td>0</td><td>0</td><td>1</td><td>N/A</td></tr>\n",
              "\t<tr><td>842473</td><td>0.05</td><td>15</td><td>1400</td><td>75</td><td>NA</td><td>0</td><td>1</td><td>0</td><td>0</td><td>0</td><td>1</td><td>N/A</td></tr>\n",
              "\t<tr><td>842473</td><td>0.05</td><td>30</td><td> 500</td><td>75</td><td>NA</td><td>0</td><td>1</td><td>0</td><td>0</td><td>0</td><td>1</td><td>N/A</td></tr>\n",
              "\t<tr><td>842473</td><td>0.05</td><td>30</td><td> 800</td><td>75</td><td>NA</td><td>0</td><td>1</td><td>0</td><td>0</td><td>0</td><td>1</td><td>N/A</td></tr>\n",
              "\t<tr><td>842473</td><td>0.05</td><td>30</td><td>1200</td><td>75</td><td>NA</td><td>0</td><td>1</td><td>0</td><td>0</td><td>0</td><td>1</td><td>N/A</td></tr>\n",
              "\t<tr><td>842473</td><td>0.05</td><td>30</td><td>2000</td><td>75</td><td>NA</td><td>0</td><td>1</td><td>0</td><td>0</td><td>0</td><td>1</td><td>N/A</td></tr>\n",
              "\t<tr><td>842473</td><td>0.05</td><td>30</td><td>1400</td><td>75</td><td>NA</td><td>0</td><td>1</td><td>0</td><td>0</td><td>0</td><td>1</td><td>N/A</td></tr>\n",
              "\t<tr><td>842473</td><td>0.05</td><td> 8</td><td> 500</td><td>90</td><td>NA</td><td>0</td><td>1</td><td>0</td><td>0</td><td>0</td><td>1</td><td>N/A</td></tr>\n",
              "\t<tr><td>842473</td><td>0.05</td><td> 8</td><td> 800</td><td>90</td><td>NA</td><td>0</td><td>1</td><td>0</td><td>0</td><td>0</td><td>1</td><td>N/A</td></tr>\n",
              "\t<tr><td>842473</td><td>0.05</td><td> 8</td><td>1200</td><td>90</td><td>NA</td><td>0</td><td>1</td><td>0</td><td>0</td><td>0</td><td>1</td><td>N/A</td></tr>\n",
              "\t<tr><td>842473</td><td>0.05</td><td> 8</td><td>2000</td><td>90</td><td>NA</td><td>0</td><td>1</td><td>0</td><td>0</td><td>0</td><td>1</td><td>N/A</td></tr>\n",
              "\t<tr><td>842473</td><td>0.05</td><td> 8</td><td>1400</td><td>90</td><td>NA</td><td>0</td><td>1</td><td>0</td><td>0</td><td>0</td><td>1</td><td>N/A</td></tr>\n",
              "\t<tr><td>842473</td><td>0.05</td><td>10</td><td> 500</td><td>90</td><td>NA</td><td>0</td><td>1</td><td>0</td><td>0</td><td>0</td><td>1</td><td>N/A</td></tr>\n",
              "\t<tr><td>842473</td><td>0.05</td><td>10</td><td> 800</td><td>90</td><td>NA</td><td>0</td><td>1</td><td>0</td><td>0</td><td>0</td><td>1</td><td>N/A</td></tr>\n",
              "\t<tr><td>842473</td><td>0.05</td><td>10</td><td>1200</td><td>90</td><td>NA</td><td>0</td><td>1</td><td>0</td><td>0</td><td>0</td><td>1</td><td>N/A</td></tr>\n",
              "\t<tr><td>842473</td><td>0.05</td><td>10</td><td>2000</td><td>90</td><td>NA</td><td>0</td><td>1</td><td>0</td><td>0</td><td>0</td><td>1</td><td>N/A</td></tr>\n",
              "\t<tr><td>842473</td><td>0.05</td><td>10</td><td>1400</td><td>90</td><td>NA</td><td>0</td><td>1</td><td>0</td><td>0</td><td>0</td><td>1</td><td>N/A</td></tr>\n",
              "\t<tr><td>842473</td><td>0.05</td><td>15</td><td> 500</td><td>90</td><td>NA</td><td>0</td><td>1</td><td>0</td><td>0</td><td>0</td><td>1</td><td>N/A</td></tr>\n",
              "\t<tr><td>842473</td><td>0.05</td><td>15</td><td> 800</td><td>90</td><td>NA</td><td>0</td><td>1</td><td>0</td><td>0</td><td>0</td><td>1</td><td>N/A</td></tr>\n",
              "\t<tr><td>842473</td><td>0.05</td><td>15</td><td>1200</td><td>90</td><td>NA</td><td>0</td><td>1</td><td>0</td><td>0</td><td>0</td><td>1</td><td>N/A</td></tr>\n",
              "\t<tr><td>842473</td><td>0.05</td><td>15</td><td>2000</td><td>90</td><td>NA</td><td>0</td><td>1</td><td>0</td><td>0</td><td>0</td><td>1</td><td>N/A</td></tr>\n",
              "\t<tr><td>842473</td><td>0.05</td><td>15</td><td>1400</td><td>90</td><td>NA</td><td>0</td><td>1</td><td>0</td><td>0</td><td>0</td><td>1</td><td>N/A</td></tr>\n",
              "\t<tr><td>842473</td><td>0.05</td><td>30</td><td> 500</td><td>90</td><td>NA</td><td>0</td><td>1</td><td>0</td><td>0</td><td>0</td><td>1</td><td>N/A</td></tr>\n",
              "\t<tr><td>842473</td><td>0.05</td><td>30</td><td> 800</td><td>90</td><td>NA</td><td>0</td><td>1</td><td>0</td><td>0</td><td>0</td><td>1</td><td>N/A</td></tr>\n",
              "\t<tr><td>842473</td><td>0.05</td><td>30</td><td>1200</td><td>90</td><td>NA</td><td>0</td><td>1</td><td>0</td><td>0</td><td>0</td><td>1</td><td>N/A</td></tr>\n",
              "\t<tr><td>842473</td><td>0.05</td><td>30</td><td>2000</td><td>90</td><td>NA</td><td>0</td><td>1</td><td>0</td><td>0</td><td>0</td><td>1</td><td>N/A</td></tr>\n",
              "\t<tr><td>842473</td><td>0.05</td><td>30</td><td>1400</td><td>90</td><td>NA</td><td>0</td><td>1</td><td>0</td><td>0</td><td>0</td><td>1</td><td>N/A</td></tr>\n",
              "</tbody>\n",
              "</table>\n"
            ],
            "text/markdown": "\nA data.table: 180 × 13\n\n| semilla &lt;int&gt; | cp &lt;dbl&gt; | maxdepth &lt;dbl&gt; | minsplit &lt;dbl&gt; | minbucket &lt;dbl&gt; | ganancia_test &lt;dbl&gt; | ganancia_test_normalizada &lt;dbl&gt; | nodos_terminales &lt;int&gt; | profundidad_maxima &lt;dbl&gt; | precision &lt;dbl&gt; | recall &lt;dbl&gt; | error_relativo_min &lt;dbl&gt; | variable_mas_imp &lt;chr&gt; |\n|---|---|---|---|---|---|---|---|---|---|---|---|---|\n| 842473 | -0.01 |  8 |  500 | 65 | NA | 52070000 |  64 |  8 | 0.06576887 | 0.5614973 | 1 | ctrx_quarter |\n| 842473 | -0.01 |  8 |  800 | 65 | NA | 51480000 |  59 |  8 | 0.06609195 | 0.5534759 | 1 | ctrx_quarter |\n| 842473 | -0.01 |  8 | 1200 | 65 | NA | 52730000 |  53 |  8 | 0.06037027 | 0.6016043 | 1 | ctrx_quarter |\n| 842473 | -0.01 |  8 | 2000 | 65 | NA | 51360000 |  41 |  8 | 0.05788934 | 0.6042781 | 1 | ctrx_quarter |\n| 842473 | -0.01 |  8 | 1400 | 65 | NA | 51870000 |  49 |  8 | 0.05936920 | 0.5989305 | 1 | ctrx_quarter |\n| 842473 | -0.01 | 10 |  500 | 65 | NA | 50350000 | 102 | 10 | 0.05611867 | 0.6069519 | 1 | ctrx_quarter |\n| 842473 | -0.01 | 10 |  800 | 65 | NA | 51660000 |  91 | 10 | 0.05670103 | 0.6176471 | 1 | ctrx_quarter |\n| 842473 | -0.01 | 10 | 1200 | 65 | NA | 52990000 |  77 | 10 | 0.05417309 | 0.6577540 | 1 | ctrx_quarter |\n| 842473 | -0.01 | 10 | 2000 | 65 | NA | 50980000 |  56 | 10 | 0.05733130 | 0.6042781 | 1 | ctrx_quarter |\n| 842473 | -0.01 | 10 | 1400 | 65 | NA | 52440000 |  70 | 10 | 0.05377524 | 0.6550802 | 1 | ctrx_quarter |\n| 842473 | -0.01 | 15 |  500 | 65 | NA | 45650000 | 170 | 15 | 0.05144844 | 0.5935829 | 1 | ctrx_quarter |\n| 842473 | -0.01 | 15 |  800 | 65 | NA | 48790000 | 140 | 15 | 0.05128205 | 0.6363636 | 1 | ctrx_quarter |\n| 842473 | -0.01 | 15 | 1200 | 65 | NA | 52770000 | 114 | 15 | 0.05391190 | 0.6577540 | 1 | ctrx_quarter |\n| 842473 | -0.01 | 15 | 2000 | 65 | NA | 50760000 |  85 | 15 | 0.05701312 | 0.6042781 | 1 | ctrx_quarter |\n| 842473 | -0.01 | 15 | 1400 | 65 | NA | 52220000 | 105 | 15 | 0.05351682 | 0.6550802 | 1 | ctrx_quarter |\n| 842473 | -0.01 | 30 |  500 | 65 | NA | 44970000 | 212 | 24 | 0.05065024 | 0.5935829 | 1 | ctrx_quarter |\n| 842473 | -0.01 | 30 |  800 | 65 | NA | 48110000 | 179 | 23 | 0.05054152 | 0.6363636 | 1 | ctrx_quarter |\n| 842473 | -0.01 | 30 | 1200 | 65 | NA | 52090000 | 149 | 23 | 0.05312028 | 0.6577540 | 1 | ctrx_quarter |\n| 842473 | -0.01 | 30 | 2000 | 65 | NA | 50760000 | 112 | 23 | 0.05701312 | 0.6042781 | 1 | ctrx_quarter |\n| 842473 | -0.01 | 30 | 1400 | 65 | NA | 51880000 | 137 | 23 | 0.05312229 | 0.6550802 | 1 | ctrx_quarter |\n| 842473 | -0.01 |  8 |  500 | 75 | NA | 52290000 |  63 |  8 | 0.06424497 | 0.5721925 | 1 | ctrx_quarter |\n| 842473 | -0.01 |  8 |  800 | 75 | NA | 51120000 |  58 |  8 | 0.06585678 | 0.5508021 | 1 | ctrx_quarter |\n| 842473 | -0.01 |  8 | 1200 | 75 | NA | 52370000 |  53 |  8 | 0.06016653 | 0.5989305 | 1 | ctrx_quarter |\n| 842473 | -0.01 |  8 | 2000 | 75 | NA | 51030000 |  41 |  8 | 0.05773672 | 0.6016043 | 1 | ctrx_quarter |\n| 842473 | -0.01 |  8 | 1400 | 75 | NA | 51530000 |  49 |  8 | 0.05919830 | 0.5962567 | 1 | ctrx_quarter |\n| 842473 | -0.01 | 10 |  500 | 75 | NA | 50500000 |  99 | 10 | 0.05601966 | 0.6096257 | 1 | ctrx_quarter |\n| 842473 | -0.01 | 10 |  800 | 75 | NA | 51250000 |  90 | 10 | 0.05644172 | 0.6149733 | 1 | ctrx_quarter |\n| 842473 | -0.01 | 10 | 1200 | 75 | NA | 52600000 |  77 | 10 | 0.05396476 | 0.6550802 | 1 | ctrx_quarter |\n| 842473 | -0.01 | 10 | 2000 | 75 | NA | 50650000 |  56 | 10 | 0.05717916 | 0.6016043 | 1 | ctrx_quarter |\n| 842473 | -0.01 | 10 | 1400 | 75 | NA | 52100000 |  70 | 10 | 0.05362637 | 0.6524064 | 1 | ctrx_quarter |\n| ⋮ | ⋮ | ⋮ | ⋮ | ⋮ | ⋮ | ⋮ | ⋮ | ⋮ | ⋮ | ⋮ | ⋮ | ⋮ |\n| 842473 | 0.05 | 15 |  500 | 75 | NA | 0 | 1 | 0 | 0 | 0 | 1 | N/A |\n| 842473 | 0.05 | 15 |  800 | 75 | NA | 0 | 1 | 0 | 0 | 0 | 1 | N/A |\n| 842473 | 0.05 | 15 | 1200 | 75 | NA | 0 | 1 | 0 | 0 | 0 | 1 | N/A |\n| 842473 | 0.05 | 15 | 2000 | 75 | NA | 0 | 1 | 0 | 0 | 0 | 1 | N/A |\n| 842473 | 0.05 | 15 | 1400 | 75 | NA | 0 | 1 | 0 | 0 | 0 | 1 | N/A |\n| 842473 | 0.05 | 30 |  500 | 75 | NA | 0 | 1 | 0 | 0 | 0 | 1 | N/A |\n| 842473 | 0.05 | 30 |  800 | 75 | NA | 0 | 1 | 0 | 0 | 0 | 1 | N/A |\n| 842473 | 0.05 | 30 | 1200 | 75 | NA | 0 | 1 | 0 | 0 | 0 | 1 | N/A |\n| 842473 | 0.05 | 30 | 2000 | 75 | NA | 0 | 1 | 0 | 0 | 0 | 1 | N/A |\n| 842473 | 0.05 | 30 | 1400 | 75 | NA | 0 | 1 | 0 | 0 | 0 | 1 | N/A |\n| 842473 | 0.05 |  8 |  500 | 90 | NA | 0 | 1 | 0 | 0 | 0 | 1 | N/A |\n| 842473 | 0.05 |  8 |  800 | 90 | NA | 0 | 1 | 0 | 0 | 0 | 1 | N/A |\n| 842473 | 0.05 |  8 | 1200 | 90 | NA | 0 | 1 | 0 | 0 | 0 | 1 | N/A |\n| 842473 | 0.05 |  8 | 2000 | 90 | NA | 0 | 1 | 0 | 0 | 0 | 1 | N/A |\n| 842473 | 0.05 |  8 | 1400 | 90 | NA | 0 | 1 | 0 | 0 | 0 | 1 | N/A |\n| 842473 | 0.05 | 10 |  500 | 90 | NA | 0 | 1 | 0 | 0 | 0 | 1 | N/A |\n| 842473 | 0.05 | 10 |  800 | 90 | NA | 0 | 1 | 0 | 0 | 0 | 1 | N/A |\n| 842473 | 0.05 | 10 | 1200 | 90 | NA | 0 | 1 | 0 | 0 | 0 | 1 | N/A |\n| 842473 | 0.05 | 10 | 2000 | 90 | NA | 0 | 1 | 0 | 0 | 0 | 1 | N/A |\n| 842473 | 0.05 | 10 | 1400 | 90 | NA | 0 | 1 | 0 | 0 | 0 | 1 | N/A |\n| 842473 | 0.05 | 15 |  500 | 90 | NA | 0 | 1 | 0 | 0 | 0 | 1 | N/A |\n| 842473 | 0.05 | 15 |  800 | 90 | NA | 0 | 1 | 0 | 0 | 0 | 1 | N/A |\n| 842473 | 0.05 | 15 | 1200 | 90 | NA | 0 | 1 | 0 | 0 | 0 | 1 | N/A |\n| 842473 | 0.05 | 15 | 2000 | 90 | NA | 0 | 1 | 0 | 0 | 0 | 1 | N/A |\n| 842473 | 0.05 | 15 | 1400 | 90 | NA | 0 | 1 | 0 | 0 | 0 | 1 | N/A |\n| 842473 | 0.05 | 30 |  500 | 90 | NA | 0 | 1 | 0 | 0 | 0 | 1 | N/A |\n| 842473 | 0.05 | 30 |  800 | 90 | NA | 0 | 1 | 0 | 0 | 0 | 1 | N/A |\n| 842473 | 0.05 | 30 | 1200 | 90 | NA | 0 | 1 | 0 | 0 | 0 | 1 | N/A |\n| 842473 | 0.05 | 30 | 2000 | 90 | NA | 0 | 1 | 0 | 0 | 0 | 1 | N/A |\n| 842473 | 0.05 | 30 | 1400 | 90 | NA | 0 | 1 | 0 | 0 | 0 | 1 | N/A |\n\n",
            "text/latex": "A data.table: 180 × 13\n\\begin{tabular}{lllllllllllll}\n semilla & cp & maxdepth & minsplit & minbucket & ganancia\\_test & ganancia\\_test\\_normalizada & nodos\\_terminales & profundidad\\_maxima & precision & recall & error\\_relativo\\_min & variable\\_mas\\_imp\\\\\n <int> & <dbl> & <dbl> & <dbl> & <dbl> & <dbl> & <dbl> & <int> & <dbl> & <dbl> & <dbl> & <dbl> & <chr>\\\\\n\\hline\n\t 842473 & -0.01 &  8 &  500 & 65 & NA & 52070000 &  64 &  8 & 0.06576887 & 0.5614973 & 1 & ctrx\\_quarter\\\\\n\t 842473 & -0.01 &  8 &  800 & 65 & NA & 51480000 &  59 &  8 & 0.06609195 & 0.5534759 & 1 & ctrx\\_quarter\\\\\n\t 842473 & -0.01 &  8 & 1200 & 65 & NA & 52730000 &  53 &  8 & 0.06037027 & 0.6016043 & 1 & ctrx\\_quarter\\\\\n\t 842473 & -0.01 &  8 & 2000 & 65 & NA & 51360000 &  41 &  8 & 0.05788934 & 0.6042781 & 1 & ctrx\\_quarter\\\\\n\t 842473 & -0.01 &  8 & 1400 & 65 & NA & 51870000 &  49 &  8 & 0.05936920 & 0.5989305 & 1 & ctrx\\_quarter\\\\\n\t 842473 & -0.01 & 10 &  500 & 65 & NA & 50350000 & 102 & 10 & 0.05611867 & 0.6069519 & 1 & ctrx\\_quarter\\\\\n\t 842473 & -0.01 & 10 &  800 & 65 & NA & 51660000 &  91 & 10 & 0.05670103 & 0.6176471 & 1 & ctrx\\_quarter\\\\\n\t 842473 & -0.01 & 10 & 1200 & 65 & NA & 52990000 &  77 & 10 & 0.05417309 & 0.6577540 & 1 & ctrx\\_quarter\\\\\n\t 842473 & -0.01 & 10 & 2000 & 65 & NA & 50980000 &  56 & 10 & 0.05733130 & 0.6042781 & 1 & ctrx\\_quarter\\\\\n\t 842473 & -0.01 & 10 & 1400 & 65 & NA & 52440000 &  70 & 10 & 0.05377524 & 0.6550802 & 1 & ctrx\\_quarter\\\\\n\t 842473 & -0.01 & 15 &  500 & 65 & NA & 45650000 & 170 & 15 & 0.05144844 & 0.5935829 & 1 & ctrx\\_quarter\\\\\n\t 842473 & -0.01 & 15 &  800 & 65 & NA & 48790000 & 140 & 15 & 0.05128205 & 0.6363636 & 1 & ctrx\\_quarter\\\\\n\t 842473 & -0.01 & 15 & 1200 & 65 & NA & 52770000 & 114 & 15 & 0.05391190 & 0.6577540 & 1 & ctrx\\_quarter\\\\\n\t 842473 & -0.01 & 15 & 2000 & 65 & NA & 50760000 &  85 & 15 & 0.05701312 & 0.6042781 & 1 & ctrx\\_quarter\\\\\n\t 842473 & -0.01 & 15 & 1400 & 65 & NA & 52220000 & 105 & 15 & 0.05351682 & 0.6550802 & 1 & ctrx\\_quarter\\\\\n\t 842473 & -0.01 & 30 &  500 & 65 & NA & 44970000 & 212 & 24 & 0.05065024 & 0.5935829 & 1 & ctrx\\_quarter\\\\\n\t 842473 & -0.01 & 30 &  800 & 65 & NA & 48110000 & 179 & 23 & 0.05054152 & 0.6363636 & 1 & ctrx\\_quarter\\\\\n\t 842473 & -0.01 & 30 & 1200 & 65 & NA & 52090000 & 149 & 23 & 0.05312028 & 0.6577540 & 1 & ctrx\\_quarter\\\\\n\t 842473 & -0.01 & 30 & 2000 & 65 & NA & 50760000 & 112 & 23 & 0.05701312 & 0.6042781 & 1 & ctrx\\_quarter\\\\\n\t 842473 & -0.01 & 30 & 1400 & 65 & NA & 51880000 & 137 & 23 & 0.05312229 & 0.6550802 & 1 & ctrx\\_quarter\\\\\n\t 842473 & -0.01 &  8 &  500 & 75 & NA & 52290000 &  63 &  8 & 0.06424497 & 0.5721925 & 1 & ctrx\\_quarter\\\\\n\t 842473 & -0.01 &  8 &  800 & 75 & NA & 51120000 &  58 &  8 & 0.06585678 & 0.5508021 & 1 & ctrx\\_quarter\\\\\n\t 842473 & -0.01 &  8 & 1200 & 75 & NA & 52370000 &  53 &  8 & 0.06016653 & 0.5989305 & 1 & ctrx\\_quarter\\\\\n\t 842473 & -0.01 &  8 & 2000 & 75 & NA & 51030000 &  41 &  8 & 0.05773672 & 0.6016043 & 1 & ctrx\\_quarter\\\\\n\t 842473 & -0.01 &  8 & 1400 & 75 & NA & 51530000 &  49 &  8 & 0.05919830 & 0.5962567 & 1 & ctrx\\_quarter\\\\\n\t 842473 & -0.01 & 10 &  500 & 75 & NA & 50500000 &  99 & 10 & 0.05601966 & 0.6096257 & 1 & ctrx\\_quarter\\\\\n\t 842473 & -0.01 & 10 &  800 & 75 & NA & 51250000 &  90 & 10 & 0.05644172 & 0.6149733 & 1 & ctrx\\_quarter\\\\\n\t 842473 & -0.01 & 10 & 1200 & 75 & NA & 52600000 &  77 & 10 & 0.05396476 & 0.6550802 & 1 & ctrx\\_quarter\\\\\n\t 842473 & -0.01 & 10 & 2000 & 75 & NA & 50650000 &  56 & 10 & 0.05717916 & 0.6016043 & 1 & ctrx\\_quarter\\\\\n\t 842473 & -0.01 & 10 & 1400 & 75 & NA & 52100000 &  70 & 10 & 0.05362637 & 0.6524064 & 1 & ctrx\\_quarter\\\\\n\t ⋮ & ⋮ & ⋮ & ⋮ & ⋮ & ⋮ & ⋮ & ⋮ & ⋮ & ⋮ & ⋮ & ⋮ & ⋮\\\\\n\t 842473 & 0.05 & 15 &  500 & 75 & NA & 0 & 1 & 0 & 0 & 0 & 1 & N/A\\\\\n\t 842473 & 0.05 & 15 &  800 & 75 & NA & 0 & 1 & 0 & 0 & 0 & 1 & N/A\\\\\n\t 842473 & 0.05 & 15 & 1200 & 75 & NA & 0 & 1 & 0 & 0 & 0 & 1 & N/A\\\\\n\t 842473 & 0.05 & 15 & 2000 & 75 & NA & 0 & 1 & 0 & 0 & 0 & 1 & N/A\\\\\n\t 842473 & 0.05 & 15 & 1400 & 75 & NA & 0 & 1 & 0 & 0 & 0 & 1 & N/A\\\\\n\t 842473 & 0.05 & 30 &  500 & 75 & NA & 0 & 1 & 0 & 0 & 0 & 1 & N/A\\\\\n\t 842473 & 0.05 & 30 &  800 & 75 & NA & 0 & 1 & 0 & 0 & 0 & 1 & N/A\\\\\n\t 842473 & 0.05 & 30 & 1200 & 75 & NA & 0 & 1 & 0 & 0 & 0 & 1 & N/A\\\\\n\t 842473 & 0.05 & 30 & 2000 & 75 & NA & 0 & 1 & 0 & 0 & 0 & 1 & N/A\\\\\n\t 842473 & 0.05 & 30 & 1400 & 75 & NA & 0 & 1 & 0 & 0 & 0 & 1 & N/A\\\\\n\t 842473 & 0.05 &  8 &  500 & 90 & NA & 0 & 1 & 0 & 0 & 0 & 1 & N/A\\\\\n\t 842473 & 0.05 &  8 &  800 & 90 & NA & 0 & 1 & 0 & 0 & 0 & 1 & N/A\\\\\n\t 842473 & 0.05 &  8 & 1200 & 90 & NA & 0 & 1 & 0 & 0 & 0 & 1 & N/A\\\\\n\t 842473 & 0.05 &  8 & 2000 & 90 & NA & 0 & 1 & 0 & 0 & 0 & 1 & N/A\\\\\n\t 842473 & 0.05 &  8 & 1400 & 90 & NA & 0 & 1 & 0 & 0 & 0 & 1 & N/A\\\\\n\t 842473 & 0.05 & 10 &  500 & 90 & NA & 0 & 1 & 0 & 0 & 0 & 1 & N/A\\\\\n\t 842473 & 0.05 & 10 &  800 & 90 & NA & 0 & 1 & 0 & 0 & 0 & 1 & N/A\\\\\n\t 842473 & 0.05 & 10 & 1200 & 90 & NA & 0 & 1 & 0 & 0 & 0 & 1 & N/A\\\\\n\t 842473 & 0.05 & 10 & 2000 & 90 & NA & 0 & 1 & 0 & 0 & 0 & 1 & N/A\\\\\n\t 842473 & 0.05 & 10 & 1400 & 90 & NA & 0 & 1 & 0 & 0 & 0 & 1 & N/A\\\\\n\t 842473 & 0.05 & 15 &  500 & 90 & NA & 0 & 1 & 0 & 0 & 0 & 1 & N/A\\\\\n\t 842473 & 0.05 & 15 &  800 & 90 & NA & 0 & 1 & 0 & 0 & 0 & 1 & N/A\\\\\n\t 842473 & 0.05 & 15 & 1200 & 90 & NA & 0 & 1 & 0 & 0 & 0 & 1 & N/A\\\\\n\t 842473 & 0.05 & 15 & 2000 & 90 & NA & 0 & 1 & 0 & 0 & 0 & 1 & N/A\\\\\n\t 842473 & 0.05 & 15 & 1400 & 90 & NA & 0 & 1 & 0 & 0 & 0 & 1 & N/A\\\\\n\t 842473 & 0.05 & 30 &  500 & 90 & NA & 0 & 1 & 0 & 0 & 0 & 1 & N/A\\\\\n\t 842473 & 0.05 & 30 &  800 & 90 & NA & 0 & 1 & 0 & 0 & 0 & 1 & N/A\\\\\n\t 842473 & 0.05 & 30 & 1200 & 90 & NA & 0 & 1 & 0 & 0 & 0 & 1 & N/A\\\\\n\t 842473 & 0.05 & 30 & 2000 & 90 & NA & 0 & 1 & 0 & 0 & 0 & 1 & N/A\\\\\n\t 842473 & 0.05 & 30 & 1400 & 90 & NA & 0 & 1 & 0 & 0 & 0 & 1 & N/A\\\\\n\\end{tabular}\n",
            "text/plain": [
              "    semilla cp    maxdepth minsplit minbucket ganancia_test\n",
              "1   842473  -0.01  8        500     65        NA           \n",
              "2   842473  -0.01  8        800     65        NA           \n",
              "3   842473  -0.01  8       1200     65        NA           \n",
              "4   842473  -0.01  8       2000     65        NA           \n",
              "5   842473  -0.01  8       1400     65        NA           \n",
              "6   842473  -0.01 10        500     65        NA           \n",
              "7   842473  -0.01 10        800     65        NA           \n",
              "8   842473  -0.01 10       1200     65        NA           \n",
              "9   842473  -0.01 10       2000     65        NA           \n",
              "10  842473  -0.01 10       1400     65        NA           \n",
              "11  842473  -0.01 15        500     65        NA           \n",
              "12  842473  -0.01 15        800     65        NA           \n",
              "13  842473  -0.01 15       1200     65        NA           \n",
              "14  842473  -0.01 15       2000     65        NA           \n",
              "15  842473  -0.01 15       1400     65        NA           \n",
              "16  842473  -0.01 30        500     65        NA           \n",
              "17  842473  -0.01 30        800     65        NA           \n",
              "18  842473  -0.01 30       1200     65        NA           \n",
              "19  842473  -0.01 30       2000     65        NA           \n",
              "20  842473  -0.01 30       1400     65        NA           \n",
              "21  842473  -0.01  8        500     75        NA           \n",
              "22  842473  -0.01  8        800     75        NA           \n",
              "23  842473  -0.01  8       1200     75        NA           \n",
              "24  842473  -0.01  8       2000     75        NA           \n",
              "25  842473  -0.01  8       1400     75        NA           \n",
              "26  842473  -0.01 10        500     75        NA           \n",
              "27  842473  -0.01 10        800     75        NA           \n",
              "28  842473  -0.01 10       1200     75        NA           \n",
              "29  842473  -0.01 10       2000     75        NA           \n",
              "30  842473  -0.01 10       1400     75        NA           \n",
              "⋮   ⋮       ⋮     ⋮        ⋮        ⋮         ⋮            \n",
              "151 842473  0.05  15        500     75        NA           \n",
              "152 842473  0.05  15        800     75        NA           \n",
              "153 842473  0.05  15       1200     75        NA           \n",
              "154 842473  0.05  15       2000     75        NA           \n",
              "155 842473  0.05  15       1400     75        NA           \n",
              "156 842473  0.05  30        500     75        NA           \n",
              "157 842473  0.05  30        800     75        NA           \n",
              "158 842473  0.05  30       1200     75        NA           \n",
              "159 842473  0.05  30       2000     75        NA           \n",
              "160 842473  0.05  30       1400     75        NA           \n",
              "161 842473  0.05   8        500     90        NA           \n",
              "162 842473  0.05   8        800     90        NA           \n",
              "163 842473  0.05   8       1200     90        NA           \n",
              "164 842473  0.05   8       2000     90        NA           \n",
              "165 842473  0.05   8       1400     90        NA           \n",
              "166 842473  0.05  10        500     90        NA           \n",
              "167 842473  0.05  10        800     90        NA           \n",
              "168 842473  0.05  10       1200     90        NA           \n",
              "169 842473  0.05  10       2000     90        NA           \n",
              "170 842473  0.05  10       1400     90        NA           \n",
              "171 842473  0.05  15        500     90        NA           \n",
              "172 842473  0.05  15        800     90        NA           \n",
              "173 842473  0.05  15       1200     90        NA           \n",
              "174 842473  0.05  15       2000     90        NA           \n",
              "175 842473  0.05  15       1400     90        NA           \n",
              "176 842473  0.05  30        500     90        NA           \n",
              "177 842473  0.05  30        800     90        NA           \n",
              "178 842473  0.05  30       1200     90        NA           \n",
              "179 842473  0.05  30       2000     90        NA           \n",
              "180 842473  0.05  30       1400     90        NA           \n",
              "    ganancia_test_normalizada nodos_terminales profundidad_maxima precision \n",
              "1   52070000                   64               8                 0.06576887\n",
              "2   51480000                   59               8                 0.06609195\n",
              "3   52730000                   53               8                 0.06037027\n",
              "4   51360000                   41               8                 0.05788934\n",
              "5   51870000                   49               8                 0.05936920\n",
              "6   50350000                  102              10                 0.05611867\n",
              "7   51660000                   91              10                 0.05670103\n",
              "8   52990000                   77              10                 0.05417309\n",
              "9   50980000                   56              10                 0.05733130\n",
              "10  52440000                   70              10                 0.05377524\n",
              "11  45650000                  170              15                 0.05144844\n",
              "12  48790000                  140              15                 0.05128205\n",
              "13  52770000                  114              15                 0.05391190\n",
              "14  50760000                   85              15                 0.05701312\n",
              "15  52220000                  105              15                 0.05351682\n",
              "16  44970000                  212              24                 0.05065024\n",
              "17  48110000                  179              23                 0.05054152\n",
              "18  52090000                  149              23                 0.05312028\n",
              "19  50760000                  112              23                 0.05701312\n",
              "20  51880000                  137              23                 0.05312229\n",
              "21  52290000                   63               8                 0.06424497\n",
              "22  51120000                   58               8                 0.06585678\n",
              "23  52370000                   53               8                 0.06016653\n",
              "24  51030000                   41               8                 0.05773672\n",
              "25  51530000                   49               8                 0.05919830\n",
              "26  50500000                   99              10                 0.05601966\n",
              "27  51250000                   90              10                 0.05644172\n",
              "28  52600000                   77              10                 0.05396476\n",
              "29  50650000                   56              10                 0.05717916\n",
              "30  52100000                   70              10                 0.05362637\n",
              "⋮   ⋮                         ⋮                ⋮                  ⋮         \n",
              "151 0                         1                0                  0         \n",
              "152 0                         1                0                  0         \n",
              "153 0                         1                0                  0         \n",
              "154 0                         1                0                  0         \n",
              "155 0                         1                0                  0         \n",
              "156 0                         1                0                  0         \n",
              "157 0                         1                0                  0         \n",
              "158 0                         1                0                  0         \n",
              "159 0                         1                0                  0         \n",
              "160 0                         1                0                  0         \n",
              "161 0                         1                0                  0         \n",
              "162 0                         1                0                  0         \n",
              "163 0                         1                0                  0         \n",
              "164 0                         1                0                  0         \n",
              "165 0                         1                0                  0         \n",
              "166 0                         1                0                  0         \n",
              "167 0                         1                0                  0         \n",
              "168 0                         1                0                  0         \n",
              "169 0                         1                0                  0         \n",
              "170 0                         1                0                  0         \n",
              "171 0                         1                0                  0         \n",
              "172 0                         1                0                  0         \n",
              "173 0                         1                0                  0         \n",
              "174 0                         1                0                  0         \n",
              "175 0                         1                0                  0         \n",
              "176 0                         1                0                  0         \n",
              "177 0                         1                0                  0         \n",
              "178 0                         1                0                  0         \n",
              "179 0                         1                0                  0         \n",
              "180 0                         1                0                  0         \n",
              "    recall    error_relativo_min variable_mas_imp\n",
              "1   0.5614973 1                  ctrx_quarter    \n",
              "2   0.5534759 1                  ctrx_quarter    \n",
              "3   0.6016043 1                  ctrx_quarter    \n",
              "4   0.6042781 1                  ctrx_quarter    \n",
              "5   0.5989305 1                  ctrx_quarter    \n",
              "6   0.6069519 1                  ctrx_quarter    \n",
              "7   0.6176471 1                  ctrx_quarter    \n",
              "8   0.6577540 1                  ctrx_quarter    \n",
              "9   0.6042781 1                  ctrx_quarter    \n",
              "10  0.6550802 1                  ctrx_quarter    \n",
              "11  0.5935829 1                  ctrx_quarter    \n",
              "12  0.6363636 1                  ctrx_quarter    \n",
              "13  0.6577540 1                  ctrx_quarter    \n",
              "14  0.6042781 1                  ctrx_quarter    \n",
              "15  0.6550802 1                  ctrx_quarter    \n",
              "16  0.5935829 1                  ctrx_quarter    \n",
              "17  0.6363636 1                  ctrx_quarter    \n",
              "18  0.6577540 1                  ctrx_quarter    \n",
              "19  0.6042781 1                  ctrx_quarter    \n",
              "20  0.6550802 1                  ctrx_quarter    \n",
              "21  0.5721925 1                  ctrx_quarter    \n",
              "22  0.5508021 1                  ctrx_quarter    \n",
              "23  0.5989305 1                  ctrx_quarter    \n",
              "24  0.6016043 1                  ctrx_quarter    \n",
              "25  0.5962567 1                  ctrx_quarter    \n",
              "26  0.6096257 1                  ctrx_quarter    \n",
              "27  0.6149733 1                  ctrx_quarter    \n",
              "28  0.6550802 1                  ctrx_quarter    \n",
              "29  0.6016043 1                  ctrx_quarter    \n",
              "30  0.6524064 1                  ctrx_quarter    \n",
              "⋮   ⋮         ⋮                  ⋮               \n",
              "151 0         1                  N/A             \n",
              "152 0         1                  N/A             \n",
              "153 0         1                  N/A             \n",
              "154 0         1                  N/A             \n",
              "155 0         1                  N/A             \n",
              "156 0         1                  N/A             \n",
              "157 0         1                  N/A             \n",
              "158 0         1                  N/A             \n",
              "159 0         1                  N/A             \n",
              "160 0         1                  N/A             \n",
              "161 0         1                  N/A             \n",
              "162 0         1                  N/A             \n",
              "163 0         1                  N/A             \n",
              "164 0         1                  N/A             \n",
              "165 0         1                  N/A             \n",
              "166 0         1                  N/A             \n",
              "167 0         1                  N/A             \n",
              "168 0         1                  N/A             \n",
              "169 0         1                  N/A             \n",
              "170 0         1                  N/A             \n",
              "171 0         1                  N/A             \n",
              "172 0         1                  N/A             \n",
              "173 0         1                  N/A             \n",
              "174 0         1                  N/A             \n",
              "175 0         1                  N/A             \n",
              "176 0         1                  N/A             \n",
              "177 0         1                  N/A             \n",
              "178 0         1                  N/A             \n",
              "179 0         1                  N/A             \n",
              "180 0         1                  N/A             "
            ]
          },
          "metadata": {}
        }
      ]
    },
    {
      "cell_type": "code",
      "source": [
        "# genero y grabo el resumen\n",
        "tb_grid_search <- tb_grid_search_detalle[,\n",
        "  list( \"ganancia_mean\" = mean(ganancia_test),\n",
        "    \"qty\" = .N ),\n",
        "  list( cp, maxdepth, minsplit, minbucket )\n",
        "]\n"
      ],
      "metadata": {
        "id": "DjCxtx8bIsgl"
      },
      "execution_count": 16,
      "outputs": []
    },
    {
      "cell_type": "code",
      "source": [
        "# ordeno descendente por ganancia\n",
        "setorder( tb_grid_search, -ganancia_mean )\n"
      ],
      "metadata": {
        "id": "LU29UhL1Ivg5"
      },
      "execution_count": 17,
      "outputs": []
    },
    {
      "cell_type": "code",
      "source": [
        "# veo los 10 mejores hiperparámetros\n",
        "tb_grid_search[1:10]"
      ],
      "metadata": {
        "id": "g-EjGY7aIyWL",
        "colab": {
          "base_uri": "https://localhost:8080/",
          "height": 412
        },
        "outputId": "d12eba4f-0b2d-4937-ed75-e98e7db5fa42"
      },
      "execution_count": 18,
      "outputs": [
        {
          "output_type": "display_data",
          "data": {
            "text/html": [
              "<table class=\"dataframe\">\n",
              "<caption>A data.table: 10 × 6</caption>\n",
              "<thead>\n",
              "\t<tr><th scope=col>cp</th><th scope=col>maxdepth</th><th scope=col>minsplit</th><th scope=col>minbucket</th><th scope=col>ganancia_mean</th><th scope=col>qty</th></tr>\n",
              "\t<tr><th scope=col>&lt;dbl&gt;</th><th scope=col>&lt;dbl&gt;</th><th scope=col>&lt;dbl&gt;</th><th scope=col>&lt;dbl&gt;</th><th scope=col>&lt;dbl&gt;</th><th scope=col>&lt;int&gt;</th></tr>\n",
              "</thead>\n",
              "<tbody>\n",
              "\t<tr><td>-0.01</td><td> 8</td><td> 500</td><td>65</td><td>NA</td><td>1</td></tr>\n",
              "\t<tr><td>-0.01</td><td> 8</td><td> 800</td><td>65</td><td>NA</td><td>1</td></tr>\n",
              "\t<tr><td>-0.01</td><td> 8</td><td>1200</td><td>65</td><td>NA</td><td>1</td></tr>\n",
              "\t<tr><td>-0.01</td><td> 8</td><td>2000</td><td>65</td><td>NA</td><td>1</td></tr>\n",
              "\t<tr><td>-0.01</td><td> 8</td><td>1400</td><td>65</td><td>NA</td><td>1</td></tr>\n",
              "\t<tr><td>-0.01</td><td>10</td><td> 500</td><td>65</td><td>NA</td><td>1</td></tr>\n",
              "\t<tr><td>-0.01</td><td>10</td><td> 800</td><td>65</td><td>NA</td><td>1</td></tr>\n",
              "\t<tr><td>-0.01</td><td>10</td><td>1200</td><td>65</td><td>NA</td><td>1</td></tr>\n",
              "\t<tr><td>-0.01</td><td>10</td><td>2000</td><td>65</td><td>NA</td><td>1</td></tr>\n",
              "\t<tr><td>-0.01</td><td>10</td><td>1400</td><td>65</td><td>NA</td><td>1</td></tr>\n",
              "</tbody>\n",
              "</table>\n"
            ],
            "text/markdown": "\nA data.table: 10 × 6\n\n| cp &lt;dbl&gt; | maxdepth &lt;dbl&gt; | minsplit &lt;dbl&gt; | minbucket &lt;dbl&gt; | ganancia_mean &lt;dbl&gt; | qty &lt;int&gt; |\n|---|---|---|---|---|---|\n| -0.01 |  8 |  500 | 65 | NA | 1 |\n| -0.01 |  8 |  800 | 65 | NA | 1 |\n| -0.01 |  8 | 1200 | 65 | NA | 1 |\n| -0.01 |  8 | 2000 | 65 | NA | 1 |\n| -0.01 |  8 | 1400 | 65 | NA | 1 |\n| -0.01 | 10 |  500 | 65 | NA | 1 |\n| -0.01 | 10 |  800 | 65 | NA | 1 |\n| -0.01 | 10 | 1200 | 65 | NA | 1 |\n| -0.01 | 10 | 2000 | 65 | NA | 1 |\n| -0.01 | 10 | 1400 | 65 | NA | 1 |\n\n",
            "text/latex": "A data.table: 10 × 6\n\\begin{tabular}{llllll}\n cp & maxdepth & minsplit & minbucket & ganancia\\_mean & qty\\\\\n <dbl> & <dbl> & <dbl> & <dbl> & <dbl> & <int>\\\\\n\\hline\n\t -0.01 &  8 &  500 & 65 & NA & 1\\\\\n\t -0.01 &  8 &  800 & 65 & NA & 1\\\\\n\t -0.01 &  8 & 1200 & 65 & NA & 1\\\\\n\t -0.01 &  8 & 2000 & 65 & NA & 1\\\\\n\t -0.01 &  8 & 1400 & 65 & NA & 1\\\\\n\t -0.01 & 10 &  500 & 65 & NA & 1\\\\\n\t -0.01 & 10 &  800 & 65 & NA & 1\\\\\n\t -0.01 & 10 & 1200 & 65 & NA & 1\\\\\n\t -0.01 & 10 & 2000 & 65 & NA & 1\\\\\n\t -0.01 & 10 & 1400 & 65 & NA & 1\\\\\n\\end{tabular}\n",
            "text/plain": [
              "   cp    maxdepth minsplit minbucket ganancia_mean qty\n",
              "1  -0.01  8        500     65        NA            1  \n",
              "2  -0.01  8        800     65        NA            1  \n",
              "3  -0.01  8       1200     65        NA            1  \n",
              "4  -0.01  8       2000     65        NA            1  \n",
              "5  -0.01  8       1400     65        NA            1  \n",
              "6  -0.01 10        500     65        NA            1  \n",
              "7  -0.01 10        800     65        NA            1  \n",
              "8  -0.01 10       1200     65        NA            1  \n",
              "9  -0.01 10       2000     65        NA            1  \n",
              "10 -0.01 10       1400     65        NA            1  "
            ]
          },
          "metadata": {}
        }
      ]
    },
    {
      "cell_type": "code",
      "source": [
        "# genero un id a la tabla\n",
        "tb_grid_search[, id := .I ]\n",
        "\n",
        "fwrite( tb_grid_search,\n",
        "  file = \"gridsearch.txt\",\n",
        "  sep = \"\\t\"\n",
        ")\n"
      ],
      "metadata": {
        "id": "K3S-I2PTI5ZE"
      },
      "execution_count": 19,
      "outputs": []
    },
    {
      "cell_type": "markdown",
      "source": [
        "# 4.  Análisis de resultados de Grid Search"
      ],
      "metadata": {
        "id": "1rYHk1YkI_9k"
      }
    },
    {
      "cell_type": "markdown",
      "source": [
        "La salida de la corrida anterior queda en ~/buckets/b1/exp/HT2900  que corresponde a su Google Drive\n",
        "<br>HT significa Hyperparameter Tuning\n",
        "<br>El Grid Search es un método de fuerza bruta de un altísimo costo computacional.\n",
        "<br>Queremos ver si es posible crear un algoritmo de optimización de hiperparámetros que se ahorre recorrer ciertas porciones muy malas del espacio de búsqueda. Algo del estilo “cada vez que pruebo una combinación de hiperparámetros donde  cp > 1 , la ganancia es muy mala, con lo cual ni vale la pena perder el tiempo explorando en esa region”\n"
      ],
      "metadata": {
        "id": "ZTJgPhMWJHTk"
      }
    },
    {
      "cell_type": "markdown",
      "source": [
        "<br>Levante el archivo de salida gridsearch.txt  a una planilla tipo Excel y analícelo detenidamente\n",
        "<br>Ordene por ganancia_mean descendente\n",
        "<br>\n",
        "<br>El de mayor ganancia_mean  decimos que es el primero del ranking\n",
        "En Zulip, correspondiente channel  #Tarea Hogar 02 , topic Analisis Grid Search   intente contestar estas preguntas:\n",
        "\n",
        "* ¿Qué combinaciones de hiperparámetros poseen una ganancia muy buena?\n",
        "* ¿Hay algun hiperparámetro que para cierto valor siempre genera una ganancia muy mala, a independientemente de lo que valgan los otros hiperparámetros ?\n",
        "* ¿Que combinaciones de hiperparámetros es pésima y hubiera sido bueno ahorrarse esas corridas ?\n",
        "\n",
        "( tiempo estimado 30 minutos, dificultad media )"
      ],
      "metadata": {
        "id": "IaVgMu4tPwyB"
      }
    }
  ]
}